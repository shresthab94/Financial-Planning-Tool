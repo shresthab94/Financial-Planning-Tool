{
 "cells": [
  {
   "cell_type": "markdown",
   "metadata": {},
   "source": [
    "# Financial Planning with APIs and Simulations\n",
    "\n",
    "In this Challenge, you’ll create two financial analysis tools by using a single Jupyter notebook:\n",
    "\n",
    "Part 1: A financial planner for emergencies. The members will be able to use this tool to visualize their current savings. The members can then determine if they have enough reserves for an emergency fund.\n",
    "\n",
    "Part 2: A financial planner for retirement. This tool will forecast the performance of their retirement portfolio in 30 years. To do this, the tool will make an Alpaca API call via the Alpaca SDK to get historical price data for use in Monte Carlo simulations.\n",
    "\n",
    "You’ll use the information from the Monte Carlo simulation to answer questions about the portfolio in your Jupyter notebook.\n",
    "\n"
   ]
  },
  {
   "cell_type": "code",
   "execution_count": 1,
   "metadata": {},
   "outputs": [],
   "source": [
    "# Import the required libraries and dependencies\n",
    "import os\n",
    "import requests\n",
    "import json\n",
    "import pandas as pd\n",
    "from dotenv import load_dotenv\n",
    "import alpaca_trade_api as tradeapi\n",
    "from MCForecastTools import MCSimulation\n",
    "\n",
    "%matplotlib inline"
   ]
  },
  {
   "cell_type": "code",
   "execution_count": 2,
   "metadata": {},
   "outputs": [
    {
     "data": {
      "text/plain": [
       "True"
      ]
     },
     "execution_count": 2,
     "metadata": {},
     "output_type": "execute_result"
    }
   ],
   "source": [
    "# Load the environment variables from the .env file\n",
    "#by calling the load_dotenv function\n",
    "load_dotenv(\"SAMPLE.env\")\n"
   ]
  },
  {
   "cell_type": "markdown",
   "metadata": {},
   "source": [
    "## Part 1: Create a Financial Planner for Emergencies"
   ]
  },
  {
   "cell_type": "markdown",
   "metadata": {},
   "source": [
    "### Evaluate the Cryptocurrency Wallet by Using the Requests Library\n",
    "\n",
    "In this section, you’ll determine the current value of a member’s cryptocurrency wallet. You’ll collect the current prices for the Bitcoin and Ethereum cryptocurrencies by using the Python Requests library. For the prototype, you’ll assume that the member holds the 1.2 Bitcoins (BTC) and 5.3 Ethereum coins (ETH). To do all this, complete the following steps:\n",
    "\n",
    "1. Create a variable named `monthly_income`, and set its value to `12000`.\n",
    "\n",
    "2. Use the Requests library to get the current price (in US dollars) of Bitcoin (BTC) and Ethereum (ETH) by using the API endpoints that the starter code supplies.\n",
    "\n",
    "3. Navigate the JSON response object to access the current price of each coin, and store each in a variable.\n",
    "\n",
    "    > **Hint** Note the specific identifier for each cryptocurrency in the API JSON response. The Bitcoin identifier is `1`, and the Ethereum identifier is `1027`.\n",
    "\n",
    "4. Calculate the value, in US dollars, of the current amount of each cryptocurrency and of the entire cryptocurrency wallet.\n",
    "\n"
   ]
  },
  {
   "cell_type": "code",
   "execution_count": 3,
   "metadata": {},
   "outputs": [],
   "source": [
    "# The current number of coins for each cryptocurrency asset held in the portfolio.\n",
    "btc_coins = 1.2\n",
    "eth_coins = 5.3"
   ]
  },
  {
   "cell_type": "markdown",
   "metadata": {},
   "source": [
    "#### Step 1: Create a variable named `monthly_income`, and set its value to `12000`."
   ]
  },
  {
   "cell_type": "code",
   "execution_count": 4,
   "metadata": {},
   "outputs": [],
   "source": [
    "# The monthly amount for the member's household income\n",
    "monthly_income = 12000\n"
   ]
  },
  {
   "cell_type": "markdown",
   "metadata": {},
   "source": [
    "#### Review the endpoint URLs for the API calls to Free Crypto API in order to get the current pricing information for both BTC and ETH."
   ]
  },
  {
   "cell_type": "code",
   "execution_count": 5,
   "metadata": {},
   "outputs": [],
   "source": [
    "# The Free Crypto API Call endpoint URLs for the held cryptocurrency assets\n",
    "btc_url = \"https://api.alternative.me/v2/ticker/Bitcoin/?convert=USD\"\n",
    "eth_url = \"https://api.alternative.me/v2/ticker/Ethereum/?convert=USD\""
   ]
  },
  {
   "cell_type": "markdown",
   "metadata": {},
   "source": [
    "#### Step 2. Use the Requests library to get the current price (in US dollars) of Bitcoin (BTC) and Ethereum (ETH) by using the API endpoints that the starter code supplied."
   ]
  },
  {
   "cell_type": "code",
   "execution_count": 6,
   "metadata": {},
   "outputs": [
    {
     "data": {
      "text/plain": [
       "'{\\n    \"data\": {\\n        \"1\": {\\n            \"circulating_supply\": 19013337,\\n            \"id\": 1,\\n            \"last_updated\": 1650125092,\\n            \"max_supply\": 21000000,\\n            \"name\": \"Bitcoin\",\\n            \"quotes\": {\\n                \"USD\": {\\n                    \"market_cap\": 762445129214,\\n                    \"percent_change_1h\": -1.04225439658462,\\n                    \"percent_change_24h\": -0.794147546344085,\\n                    \"percent_change_7d\": -5.24086241175936,\\n                    \"percentage_change_1h\": -1.04225439658462,\\n                    \"percentage_change_24h\": -0.794147546344085,\\n                    \"percentage_change_7d\": -5.24086241175936,\\n                    \"price\": 40098.0,\\n                    \"volume_24h\": 16947686358\\n                }\\n            },\\n            \"rank\": 1,\\n            \"symbol\": \"BTC\",\\n            \"total_supply\": 19013337,\\n            \"website_slug\": \"bitcoin\"\\n        }\\n    },\\n    \"metadata\": {\\n        \"error\": null,\\n        \"num_cryptocurrencies\": 3106,\\n        \"timestamp\": 1650125092\\n    }\\n}'"
      ]
     },
     "metadata": {},
     "output_type": "display_data"
    }
   ],
   "source": [
    "# Using the Python requests library, make an API call to access the current price of BTC\n",
    "btc_response = requests.get(btc_url).json()\n",
    "\n",
    "# Use the json.dumps function to review the response data from the API call\n",
    "# Use the indent and sort_keys parameters to make the response object readable\n",
    "# YOUR CODE HERE\n",
    "btc_data = json.dumps(btc_response, indent= 4,sort_keys=True)\n",
    "\n",
    "display(btc_data)"
   ]
  },
  {
   "cell_type": "code",
   "execution_count": 7,
   "metadata": {},
   "outputs": [
    {
     "name": "stdout",
     "output_type": "stream",
     "text": [
      "{\n",
      "    \"data\": {\n",
      "        \"1027\": {\n",
      "            \"circulating_supply\": 120403512,\n",
      "            \"id\": 1027,\n",
      "            \"last_updated\": 1650125028,\n",
      "            \"max_supply\": 0,\n",
      "            \"name\": \"Ethereum\",\n",
      "            \"quotes\": {\n",
      "                \"USD\": {\n",
      "                    \"market_cap\": 363876282815,\n",
      "                    \"percent_change_1h\": -0.986214599447338,\n",
      "                    \"percent_change_24h\": -0.318778826726847,\n",
      "                    \"percent_change_7d\": -5.32216906065451,\n",
      "                    \"percentage_change_1h\": -0.986214599447338,\n",
      "                    \"percentage_change_24h\": -0.318778826726847,\n",
      "                    \"percentage_change_7d\": -5.32216906065451,\n",
      "                    \"price\": 3022.14,\n",
      "                    \"volume_24h\": 9369366408\n",
      "                }\n",
      "            },\n",
      "            \"rank\": 2,\n",
      "            \"symbol\": \"ETH\",\n",
      "            \"total_supply\": 120403512,\n",
      "            \"website_slug\": \"ethereum\"\n",
      "        }\n",
      "    },\n",
      "    \"metadata\": {\n",
      "        \"error\": null,\n",
      "        \"num_cryptocurrencies\": 3106,\n",
      "        \"timestamp\": 1650125028\n",
      "    }\n",
      "}\n"
     ]
    }
   ],
   "source": [
    "# Using the Python requests library, make an API call to access the current price ETH\n",
    "eth_response = requests.get(eth_url).json()\n",
    "\n",
    "# Use the json.dumps function to review the response data from the API call\n",
    "# Use the indent and sort_keys parameters to make the response object readable\n",
    "# YOUR CODE HERE\n",
    "print(json.dumps(eth_response, indent= 4, sort_keys=True))\n",
    "\n"
   ]
  },
  {
   "cell_type": "markdown",
   "metadata": {},
   "source": [
    "#### Step 3: Navigate the JSON response object to access the current price of each coin, and store each in a variable."
   ]
  },
  {
   "cell_type": "code",
   "execution_count": 8,
   "metadata": {},
   "outputs": [
    {
     "name": "stdout",
     "output_type": "stream",
     "text": [
      "Current price of Bitcoin ($): 40098.0\n"
     ]
    }
   ],
   "source": [
    "# Navigate the BTC response object to access the current price of BTC\n",
    "btc_price = btc_response['data']['1']['quotes']['USD']['price']\n",
    "\n",
    "# Print the current price of BTC\n",
    "print(f\"Current price of Bitcoin ($): {btc_price}\")\n"
   ]
  },
  {
   "cell_type": "code",
   "execution_count": 9,
   "metadata": {},
   "outputs": [
    {
     "name": "stdout",
     "output_type": "stream",
     "text": [
      "Current price of Ethereum($): 3022.14\n"
     ]
    }
   ],
   "source": [
    "# Navigate the BTC response object to access the current price of ETH\n",
    "eth_price = eth_response[\"data\"][\"1027\"][\"quotes\"][\"USD\"][\"price\"]\n",
    "\n",
    "# Print the current price of ETH\n",
    "print(f\"Current price of Ethereum($): {eth_price}\")\n"
   ]
  },
  {
   "cell_type": "markdown",
   "metadata": {},
   "source": [
    "### Step 4: Calculate the value, in US dollars, of the current amount of each cryptocurrency and of the entire cryptocurrency wallet."
   ]
  },
  {
   "cell_type": "code",
   "execution_count": 10,
   "metadata": {},
   "outputs": [
    {
     "name": "stdout",
     "output_type": "stream",
     "text": [
      "The current valuation of Bitcoin in portfolio:   $ 48117.6\n"
     ]
    }
   ],
   "source": [
    "# Compute the current value of the BTC holding \n",
    "#total number of bitcoins multilplied by the price of bitcoin\n",
    "btc_value = btc_price*btc_coins\n",
    "\n",
    "# Print current value of your holding in BTC\n",
    "print(f\"The current valuation of Bitcoin in portfolio:   $ {btc_value}\")"
   ]
  },
  {
   "cell_type": "code",
   "execution_count": 11,
   "metadata": {},
   "outputs": [
    {
     "name": "stdout",
     "output_type": "stream",
     "text": [
      "The current valuation of Ethereum in portfolio:  $16017.341999999999\n"
     ]
    }
   ],
   "source": [
    "# Compute the current value of the ETH holding \n",
    "#total number of ethereum multilplied by the price of ethereum\n",
    "eth_value = eth_coins*eth_price\n",
    "\n",
    "# Print current value of your holding in ETH\n",
    "print(f\"The current valuation of Ethereum in portfolio:  ${eth_value}\")\n"
   ]
  },
  {
   "cell_type": "code",
   "execution_count": 12,
   "metadata": {},
   "outputs": [
    {
     "name": "stdout",
     "output_type": "stream",
     "text": [
      "Current cryptocurrency valuation: $ 64134.941999999995\n"
     ]
    }
   ],
   "source": [
    "# Compute the total value of the cryptocurrency wallet\n",
    "# Add the value of the BTC holding to the value of the ETH holding\n",
    "#\n",
    "total_crypto_wallet = eth_value + btc_value\n",
    "\n",
    "# Print current cryptocurrency wallet balance\n",
    "print(f\"Current cryptocurrency valuation: $ {total_crypto_wallet}\")\n"
   ]
  },
  {
   "cell_type": "markdown",
   "metadata": {},
   "source": [
    "### Evaluate the Stock and Bond Holdings by Using the Alpaca SDK\n",
    "\n",
    "In this section, you’ll determine the current value of a member’s stock and bond holdings. You’ll make an API call to Alpaca via the Alpaca SDK to get the current closing prices of the SPDR S&P 500 ETF Trust (ticker: SPY) and of the iShares Core US Aggregate Bond ETF (ticker: AGG). For the prototype, assume that the member holds 110 shares of SPY, which represents the stock portion of their portfolio, and 200 shares of AGG, which represents the bond portion. To do all this, complete the following steps:\n",
    "\n",
    "1. In the `Starter_Code` folder, create an environment file (`.env`) to store the values of your Alpaca API key and Alpaca secret key.\n",
    "\n",
    "2. Set the variables for the Alpaca API and secret keys. Using the Alpaca SDK, create the Alpaca `tradeapi.REST` object. In this object, include the parameters for the Alpaca API key, the secret key, and the version number.\n",
    "\n",
    "3. Set the following parameters for the Alpaca API call:\n",
    "\n",
    "    - `tickers`: Use the tickers for the member’s stock and bond holdings.\n",
    "\n",
    "    - `timeframe`: Use a time frame of one day.\n",
    "\n",
    "    - `start_date` and `end_date`: Use the same date for these parameters, and format them with the date of the previous weekday (or `2020-08-07`). This is because you want the one closing price for the most-recent trading day.\n",
    "\n",
    "4. Get the current closing prices for `SPY` and `AGG` by using the Alpaca `get_bars` function. Format the response as a Pandas DataFrame by including the `df` property at the end of the `get_bars` function.\n",
    "\n",
    "5. Navigating the Alpaca response DataFrame, select the `SPY` and `AGG` closing prices, and store them as variables.\n",
    "\n",
    "6. Calculate the value, in US dollars, of the current amount of shares in each of the stock and bond portions of the portfolio, and print the results.\n"
   ]
  },
  {
   "cell_type": "markdown",
   "metadata": {},
   "source": [
    "#### Review the total number of shares held in both (SPY) and (AGG)."
   ]
  },
  {
   "cell_type": "code",
   "execution_count": 13,
   "metadata": {},
   "outputs": [],
   "source": [
    "# Current amount of shares held in both the stock (SPY) and bond (AGG) portion of the portfolio.\n",
    "spy_shares = 110\n",
    "agg_shares = 200\n"
   ]
  },
  {
   "cell_type": "markdown",
   "metadata": {},
   "source": [
    "#### Step 1: In the `Starter_Code` folder, create an environment file (`.env`) to store the values of your Alpaca API key and Alpaca secret key."
   ]
  },
  {
   "cell_type": "markdown",
   "metadata": {},
   "source": [
    "#### Step 2: Set the variables for the Alpaca API and secret keys. Using the Alpaca SDK, create the Alpaca `tradeapi.REST` object. In this object, include the parameters for the Alpaca API key, the secret key, and the version number."
   ]
  },
  {
   "cell_type": "code",
   "execution_count": 14,
   "metadata": {},
   "outputs": [],
   "source": [
    "# Set the variables for the Alpaca API and secret keys\n",
    "alpaca_api_key = os.getenv(\"ALPACA_API_KEY\")\n",
    "alpaca_secrect_key = os.getenv(\"ALPACA_SECRET_KEY\")\n",
    "type(alpaca_api_key)\n",
    "\n",
    "# Create the Alpaca tradeapi.REST object\n",
    "alpaca = tradeapi.REST(alpaca_api_key,alpaca_secrect_key,api_version = \"v2\")"
   ]
  },
  {
   "cell_type": "markdown",
   "metadata": {},
   "source": [
    "#### Step 3: Set the following parameters for the Alpaca API call:\n",
    "\n",
    "- `tickers`: Use the tickers for the member’s stock and bond holdings.\n",
    "\n",
    "- `timeframe`: Use a time frame of one day.\n",
    "\n",
    "- `start_date` and `end_date`: Use the same date for these parameters, and format them with the date of the previous weekday (or `2020-08-07`). This is because you want the one closing price for the most-recent trading day.\n"
   ]
  },
  {
   "cell_type": "code",
   "execution_count": 15,
   "metadata": {},
   "outputs": [
    {
     "data": {
      "text/plain": [
       "timestamp\n",
       "2022-04-04 04:00:00+00:00    False\n",
       "2022-04-05 04:00:00+00:00    False\n",
       "2022-04-06 04:00:00+00:00    False\n",
       "2022-04-07 04:00:00+00:00    False\n",
       "2022-04-08 04:00:00+00:00    False\n",
       "2022-04-04 04:00:00+00:00     True\n",
       "2022-04-05 04:00:00+00:00     True\n",
       "2022-04-06 04:00:00+00:00     True\n",
       "2022-04-07 04:00:00+00:00     True\n",
       "2022-04-08 04:00:00+00:00     True\n",
       "Name: symbol, dtype: bool"
      ]
     },
     "metadata": {},
     "output_type": "display_data"
    }
   ],
   "source": [
    "# Set the tickers for both the bond and stock portion of the portfolio\n",
    "tickers = [\"SPY\",\"AGG\"]\n",
    "\n",
    "# Set timeframe to 1Day\n",
    "\n",
    "# Format current date as ISO format\n",
    "# Set both the start and end date at the date of your prior weekday \n",
    "# This will give you the closing price of the previous trading day\n",
    "# Alternatively you can use a start and end date of 2020-08-07\n",
    "# YOUR CODE HERE\n",
    "# YOUR CODE HERE\n",
    "timeframe = \"1Day\"\n",
    "start_date = pd.Timestamp(\"2022-04-04\", tz=\"America/New_York\").isoformat()\n",
    "end_date = pd.Timestamp(\"2022-04-08\",tz=\"America/New_York\").isoformat()\n",
    "\n",
    "alpaca_portfolio_df = alpaca.get_bars(tickers, timeframe, start = start_date,end = end_date).df\n",
    "display(alpaca_portfolio_df['symbol']=='SPY')"
   ]
  },
  {
   "cell_type": "markdown",
   "metadata": {},
   "source": [
    "#### Step 4: Get the current closing prices for `SPY` and `AGG` by using the Alpaca `get_bars` function. Format the response as a Pandas DataFrame by including the `df` property at the end of the `get_bars` function."
   ]
  },
  {
   "cell_type": "code",
   "execution_count": 16,
   "metadata": {},
   "outputs": [
    {
     "data": {
      "text/html": [
       "<div>\n",
       "<style scoped>\n",
       "    .dataframe tbody tr th:only-of-type {\n",
       "        vertical-align: middle;\n",
       "    }\n",
       "\n",
       "    .dataframe tbody tr th {\n",
       "        vertical-align: top;\n",
       "    }\n",
       "\n",
       "    .dataframe thead tr th {\n",
       "        text-align: left;\n",
       "    }\n",
       "\n",
       "    .dataframe thead tr:last-of-type th {\n",
       "        text-align: right;\n",
       "    }\n",
       "</style>\n",
       "<table border=\"1\" class=\"dataframe\">\n",
       "  <thead>\n",
       "    <tr>\n",
       "      <th></th>\n",
       "      <th colspan=\"7\" halign=\"left\">SPY</th>\n",
       "      <th colspan=\"7\" halign=\"left\">AGG</th>\n",
       "    </tr>\n",
       "    <tr>\n",
       "      <th></th>\n",
       "      <th>open</th>\n",
       "      <th>high</th>\n",
       "      <th>low</th>\n",
       "      <th>close</th>\n",
       "      <th>volume</th>\n",
       "      <th>trade_count</th>\n",
       "      <th>vwap</th>\n",
       "      <th>open</th>\n",
       "      <th>high</th>\n",
       "      <th>low</th>\n",
       "      <th>close</th>\n",
       "      <th>volume</th>\n",
       "      <th>trade_count</th>\n",
       "      <th>vwap</th>\n",
       "    </tr>\n",
       "    <tr>\n",
       "      <th>timestamp</th>\n",
       "      <th></th>\n",
       "      <th></th>\n",
       "      <th></th>\n",
       "      <th></th>\n",
       "      <th></th>\n",
       "      <th></th>\n",
       "      <th></th>\n",
       "      <th></th>\n",
       "      <th></th>\n",
       "      <th></th>\n",
       "      <th></th>\n",
       "      <th></th>\n",
       "      <th></th>\n",
       "      <th></th>\n",
       "    </tr>\n",
       "  </thead>\n",
       "  <tbody>\n",
       "    <tr>\n",
       "      <th>2022-04-04 04:00:00+00:00</th>\n",
       "      <td>106.87</td>\n",
       "      <td>106.870</td>\n",
       "      <td>106.560</td>\n",
       "      <td>106.84</td>\n",
       "      <td>9956493</td>\n",
       "      <td>32544</td>\n",
       "      <td>106.739298</td>\n",
       "      <td>453.20</td>\n",
       "      <td>456.91</td>\n",
       "      <td>452.26</td>\n",
       "      <td>456.80</td>\n",
       "      <td>59663209</td>\n",
       "      <td>503316</td>\n",
       "      <td>455.309774</td>\n",
       "    </tr>\n",
       "    <tr>\n",
       "      <th>2022-04-05 04:00:00+00:00</th>\n",
       "      <td>106.60</td>\n",
       "      <td>106.625</td>\n",
       "      <td>105.740</td>\n",
       "      <td>105.76</td>\n",
       "      <td>11018430</td>\n",
       "      <td>34684</td>\n",
       "      <td>105.931526</td>\n",
       "      <td>455.23</td>\n",
       "      <td>457.83</td>\n",
       "      <td>449.82</td>\n",
       "      <td>451.03</td>\n",
       "      <td>74022189</td>\n",
       "      <td>644313</td>\n",
       "      <td>453.412462</td>\n",
       "    </tr>\n",
       "    <tr>\n",
       "      <th>2022-04-06 04:00:00+00:00</th>\n",
       "      <td>105.20</td>\n",
       "      <td>105.805</td>\n",
       "      <td>105.115</td>\n",
       "      <td>105.49</td>\n",
       "      <td>13322630</td>\n",
       "      <td>47090</td>\n",
       "      <td>105.463015</td>\n",
       "      <td>446.87</td>\n",
       "      <td>448.93</td>\n",
       "      <td>443.47</td>\n",
       "      <td>446.52</td>\n",
       "      <td>105592595</td>\n",
       "      <td>901634</td>\n",
       "      <td>446.345270</td>\n",
       "    </tr>\n",
       "    <tr>\n",
       "      <th>2022-04-07 04:00:00+00:00</th>\n",
       "      <td>105.38</td>\n",
       "      <td>105.510</td>\n",
       "      <td>105.130</td>\n",
       "      <td>105.26</td>\n",
       "      <td>7921117</td>\n",
       "      <td>25631</td>\n",
       "      <td>105.278761</td>\n",
       "      <td>445.67</td>\n",
       "      <td>450.69</td>\n",
       "      <td>443.53</td>\n",
       "      <td>448.77</td>\n",
       "      <td>77538519</td>\n",
       "      <td>628673</td>\n",
       "      <td>447.098209</td>\n",
       "    </tr>\n",
       "    <tr>\n",
       "      <th>2022-04-08 04:00:00+00:00</th>\n",
       "      <td>104.82</td>\n",
       "      <td>105.010</td>\n",
       "      <td>104.615</td>\n",
       "      <td>104.73</td>\n",
       "      <td>6501822</td>\n",
       "      <td>24900</td>\n",
       "      <td>104.804999</td>\n",
       "      <td>448.04</td>\n",
       "      <td>450.63</td>\n",
       "      <td>445.94</td>\n",
       "      <td>447.57</td>\n",
       "      <td>79148376</td>\n",
       "      <td>573491</td>\n",
       "      <td>448.250805</td>\n",
       "    </tr>\n",
       "  </tbody>\n",
       "</table>\n",
       "</div>"
      ],
      "text/plain": [
       "                              SPY                                      \\\n",
       "                             open     high      low   close    volume   \n",
       "timestamp                                                               \n",
       "2022-04-04 04:00:00+00:00  106.87  106.870  106.560  106.84   9956493   \n",
       "2022-04-05 04:00:00+00:00  106.60  106.625  105.740  105.76  11018430   \n",
       "2022-04-06 04:00:00+00:00  105.20  105.805  105.115  105.49  13322630   \n",
       "2022-04-07 04:00:00+00:00  105.38  105.510  105.130  105.26   7921117   \n",
       "2022-04-08 04:00:00+00:00  104.82  105.010  104.615  104.73   6501822   \n",
       "\n",
       "                                                      AGG                  \\\n",
       "                          trade_count        vwap    open    high     low   \n",
       "timestamp                                                                   \n",
       "2022-04-04 04:00:00+00:00       32544  106.739298  453.20  456.91  452.26   \n",
       "2022-04-05 04:00:00+00:00       34684  105.931526  455.23  457.83  449.82   \n",
       "2022-04-06 04:00:00+00:00       47090  105.463015  446.87  448.93  443.47   \n",
       "2022-04-07 04:00:00+00:00       25631  105.278761  445.67  450.69  443.53   \n",
       "2022-04-08 04:00:00+00:00       24900  104.804999  448.04  450.63  445.94   \n",
       "\n",
       "                                                                      \n",
       "                            close     volume trade_count        vwap  \n",
       "timestamp                                                             \n",
       "2022-04-04 04:00:00+00:00  456.80   59663209      503316  455.309774  \n",
       "2022-04-05 04:00:00+00:00  451.03   74022189      644313  453.412462  \n",
       "2022-04-06 04:00:00+00:00  446.52  105592595      901634  446.345270  \n",
       "2022-04-07 04:00:00+00:00  448.77   77538519      628673  447.098209  \n",
       "2022-04-08 04:00:00+00:00  447.57   79148376      573491  448.250805  "
      ]
     },
     "execution_count": 16,
     "metadata": {},
     "output_type": "execute_result"
    }
   ],
   "source": [
    "# Use the Alpaca get_bars function to get current closing prices the portfolio\n",
    "# Be sure to set the `df` property after the function to format the response object as a DataFrame\n",
    "# YOUR CODE HERE\n",
    "alpaca_portfolio_df = alpaca.get_bars(tickers, timeframe, start = start_date,end = end_date).df\n",
    "\n",
    "# Reorganize the DataFrame\n",
    "# Separate ticker data\n",
    "# YOUR CODE HERE\n",
    "\n",
    "agg_etf = alpaca_portfolio_df[alpaca_portfolio_df['symbol']=='AGG'].drop('symbol', axis =1)\n",
    "spy_etf = alpaca_portfolio_df[alpaca_portfolio_df['symbol']=='SPY'].drop('symbol', axis =1)\n",
    "# Concatenate the ticker DataFrames\n",
    "# YOUR CODE HERE\n",
    "portfolio_df= pd.concat([agg_etf,spy_etf],axis=1, keys=['SPY','AGG'])\n",
    "\n",
    "\n",
    "# Review the first 5 rows of the Alpaca DataFrame\n",
    "portfolio_df.head()\n"
   ]
  },
  {
   "cell_type": "markdown",
   "metadata": {},
   "source": [
    "#### Step 5: Navigating the Alpaca response DataFrame, select the `SPY` and `AGG` closing prices, and store them as variables."
   ]
  },
  {
   "cell_type": "code",
   "execution_count": 17,
   "metadata": {},
   "outputs": [
    {
     "name": "stdout",
     "output_type": "stream",
     "text": [
      "Closing price of AGG: $104.73\n"
     ]
    }
   ],
   "source": [
    "# Access the closing price for AGG from the Alpaca DataFrame\n",
    "# Converting the value to a floating point number\n",
    "\n",
    "agg_close_price = float(agg_etf.loc['2022-04-08','close'])\n",
    "\n",
    "# Print the AGG closing price\n",
    "print(f\"Closing price of AGG: ${(agg_close_price)}\")\n"
   ]
  },
  {
   "cell_type": "code",
   "execution_count": 18,
   "metadata": {},
   "outputs": [
    {
     "name": "stdout",
     "output_type": "stream",
     "text": [
      "Closing price for SPY: $ 447.57\n"
     ]
    }
   ],
   "source": [
    "# Access the closing price for SPY from the Alpaca DataFrame\n",
    "# Converting the value to a floating point number\n",
    "spy_close_price = float(spy_etf['close'].loc['2022-04-08'])\n",
    "\n",
    "# Print the SPY closing price\n",
    "print(f\"Closing price for SPY: $ {spy_close_price}\")"
   ]
  },
  {
   "cell_type": "markdown",
   "metadata": {},
   "source": [
    "#### Step 6: Calculate the value, in US dollars, of the current amount of shares in each of the stock and bond portions of the portfolio, and print the results."
   ]
  },
  {
   "cell_type": "code",
   "execution_count": 19,
   "metadata": {},
   "outputs": [
    {
     "name": "stdout",
     "output_type": "stream",
     "text": [
      "Current bond valuation of AGG in the portfolio= $ 20946.0\n"
     ]
    }
   ],
   "source": [
    "# Calculate the current value of the bond portion of the portfolio\n",
    "agg_value = agg_close_price*agg_shares\n",
    " \n",
    "# Print the current value of the bond portfolio\n",
    "print(f\"Current bond valuation of AGG in the portfolio= $ {agg_value}\")\n"
   ]
  },
  {
   "cell_type": "code",
   "execution_count": 20,
   "metadata": {},
   "outputs": [
    {
     "name": "stdout",
     "output_type": "stream",
     "text": [
      "Current stock valuation of SPY in the portfolio= $ 49232.7\n"
     ]
    }
   ],
   "source": [
    "# Calculate the current value of the stock portion of the portfolio\n",
    "spy_value = spy_close_price*spy_shares\n",
    "\n",
    "# Print the current value of the stock portfolio\n",
    "print(f\"Current stock valuation of SPY in the portfolio= $ {spy_value}\")\n"
   ]
  },
  {
   "cell_type": "code",
   "execution_count": 21,
   "metadata": {},
   "outputs": [
    {
     "name": "stdout",
     "output_type": "stream",
     "text": [
      " Total valuation of portfolio: $ 70178.7\n"
     ]
    }
   ],
   "source": [
    "# Calculate the total value of the stock and bond portion of the portfolio\n",
    "total_stocks_bonds = agg_value + spy_value\n",
    "\n",
    "# Print the current balance of the stock and bond portion of the portfolio\n",
    "print(f\" Total valuation of portfolio: $ {total_stocks_bonds}\")\n"
   ]
  },
  {
   "cell_type": "code",
   "execution_count": 22,
   "metadata": {},
   "outputs": [
    {
     "name": "stdout",
     "output_type": "stream",
     "text": [
      "Total available savings of the member's portfolio: $ 134313.64\n"
     ]
    }
   ],
   "source": [
    "# Calculate the total value of the member's entire savings portfolio\n",
    "# Add the value of the cryptocurrency walled to the value of the total stocks and bonds\n",
    "total_portfolio = total_crypto_wallet +total_stocks_bonds\n",
    "\n",
    "# Print current cryptocurrency wallet balance\n",
    "print(f\"Total available savings of the member's portfolio: $ {total_portfolio:.2f}\")\n"
   ]
  },
  {
   "cell_type": "markdown",
   "metadata": {},
   "source": [
    "### Evaluate the Emergency Fund\n",
    "\n",
    "In this section, you’ll use the valuations for the cryptocurrency wallet and for the stock and bond portions of the portfolio to determine if the credit union member has enough savings to build an emergency fund into their financial plan. To do this, complete the following steps:\n",
    "\n",
    "1. Create a Python list named `savings_data` that has two elements. The first element contains the total value of the cryptocurrency wallet. The second element contains the total value of the stock and bond portions of the portfolio.\n",
    "\n",
    "2. Use the `savings_data` list to create a Pandas DataFrame named `savings_df`, and then display this DataFrame. The function to create the DataFrame should take the following three parameters:\n",
    "\n",
    "    - `savings_data`: Use the list that you just created.\n",
    "\n",
    "    - `columns`: Set this parameter equal to a Python list with a single value called `amount`.\n",
    "\n",
    "    - `index`: Set this parameter equal to a Python list with the values of `crypto` and `stock/bond`.\n",
    "\n",
    "3. Use the `savings_df` DataFrame to plot a pie chart that visualizes the composition of the member’s portfolio. The y-axis of the pie chart uses `amount`. Be sure to add a title.\n",
    "\n",
    "4. Using Python, determine if the current portfolio has enough to create an emergency fund as part of the member’s financial plan. Ideally, an emergency fund should equal to three times the member’s monthly income. To do this, implement the following steps:\n",
    "\n",
    "    1. Create a variable named `emergency_fund_value`, and set it equal to three times the value of the member’s `monthly_income` of $12000. (You set this earlier in Part 1).\n",
    "\n",
    "    2. Create a series of three if statements to determine if the member’s total portfolio is large enough to fund the emergency portfolio:\n",
    "\n",
    "        1. If the total portfolio value is greater than the emergency fund value, display a message congratulating the member for having enough money in this fund.\n",
    "\n",
    "        2. Else if the total portfolio value is equal to the emergency fund value, display a message congratulating the member on reaching this important financial goal.\n",
    "\n",
    "        3. Else the total portfolio is less than the emergency fund value, so display a message showing how many dollars away the member is from reaching the goal. (Subtract the total portfolio value from the emergency fund value.)\n"
   ]
  },
  {
   "cell_type": "markdown",
   "metadata": {},
   "source": [
    "#### Step 1: Create a Python list named `savings_data` that has two elements. The first element contains the total value of the cryptocurrency wallet. The second element contains the total value of the stock and bond portions of the portfolio."
   ]
  },
  {
   "cell_type": "code",
   "execution_count": 24,
   "metadata": {},
   "outputs": [
    {
     "data": {
      "text/plain": [
       "[64134.941999999995, 70178.7]"
      ]
     },
     "execution_count": 24,
     "metadata": {},
     "output_type": "execute_result"
    }
   ],
   "source": [
    "# Consolidate financial assets data into a Python list\n",
    "savings_data = [total_crypto_wallet,total_stocks_bonds]\n",
    "\n",
    "# Review the Python list savings_data\n",
    "\n",
    "savings_data"
   ]
  },
  {
   "cell_type": "markdown",
   "metadata": {},
   "source": [
    "#### Step 2: Use the `savings_data` list to create a Pandas DataFrame named `savings_df`, and then display this DataFrame. The function to create the DataFrame should take the following three parameters:\n",
    "\n",
    "- `savings_data`: Use the list that you just created.\n",
    "\n",
    "- `columns`: Set this parameter equal to a Python list with a single value called `amount`.\n",
    "\n",
    "- `index`: Set this parameter equal to a Python list with the values of `crypto` and `stock/bond`.\n"
   ]
  },
  {
   "cell_type": "code",
   "execution_count": 25,
   "metadata": {},
   "outputs": [
    {
     "data": {
      "text/html": [
       "<div>\n",
       "<style scoped>\n",
       "    .dataframe tbody tr th:only-of-type {\n",
       "        vertical-align: middle;\n",
       "    }\n",
       "\n",
       "    .dataframe tbody tr th {\n",
       "        vertical-align: top;\n",
       "    }\n",
       "\n",
       "    .dataframe thead th {\n",
       "        text-align: right;\n",
       "    }\n",
       "</style>\n",
       "<table border=\"1\" class=\"dataframe\">\n",
       "  <thead>\n",
       "    <tr style=\"text-align: right;\">\n",
       "      <th></th>\n",
       "      <th>amount</th>\n",
       "    </tr>\n",
       "  </thead>\n",
       "  <tbody>\n",
       "    <tr>\n",
       "      <th>crypto</th>\n",
       "      <td>64134.942</td>\n",
       "    </tr>\n",
       "    <tr>\n",
       "      <th>stock/bond</th>\n",
       "      <td>70178.700</td>\n",
       "    </tr>\n",
       "  </tbody>\n",
       "</table>\n",
       "</div>"
      ],
      "text/plain": [
       "               amount\n",
       "crypto      64134.942\n",
       "stock/bond  70178.700"
      ]
     },
     "execution_count": 25,
     "metadata": {},
     "output_type": "execute_result"
    }
   ],
   "source": [
    "# Create a Pandas DataFrame called savings_df \n",
    "savings_df = pd.DataFrame(savings_data)\n",
    "index = pd.Index([\"crypto\",\"stock/bond\"])\n",
    "savings_df = savings_df.set_index(index)\n",
    "column = \"amount\"\n",
    "savings_df.columns =[column] \n",
    "\n",
    "# Display the savings_df DataFrame\n",
    "savings_df\n"
   ]
  },
  {
   "cell_type": "markdown",
   "metadata": {},
   "source": [
    "#### Step 3: Use the `savings_df` DataFrame to plot a pie chart that visualizes the composition of the member’s portfolio. The y-axis of the pie chart uses `amount`. Be sure to add a title."
   ]
  },
  {
   "cell_type": "code",
   "execution_count": 26,
   "metadata": {},
   "outputs": [
    {
     "data": {
      "text/plain": [
       "<AxesSubplot:title={'center':\"Composition of member's portfolio\"}, ylabel='amount'>"
      ]
     },
     "execution_count": 26,
     "metadata": {},
     "output_type": "execute_result"
    },
    {
     "data": {
      "image/png": "[encoded data removed]",
      "text/plain": [
       "<Figure size 720x720 with 1 Axes>"
      ]
     },
     "metadata": {},
     "output_type": "display_data"
    }
   ],
   "source": [
    "# Plot the total value of the member's portfolio (crypto and stock/bond) in a pie chart\n",
    "savings_df.plot.pie(y=\"amount\", figsize= (10,10), autopct='%1.1f%%',title =\"Composition of member's portfolio\")\n"
   ]
  },
  {
   "cell_type": "markdown",
   "metadata": {},
   "source": [
    "#### Step 4: Using Python, determine if the current portfolio has enough to create an emergency fund as part of the member’s financial plan. Ideally, an emergency fund should equal to three times the member’s monthly income. To do this, implement the following steps:\n",
    "\n",
    "Step 1. Create a variable named `emergency_fund_value`, and set it equal to three times the value of the member’s `monthly_income` of 12000. (You set this earlier in Part 1).\n",
    "\n",
    "Step 2. Create a series of three if statements to determine if the member’s total portfolio is large enough to fund the emergency portfolio:\n",
    "\n",
    "* If the total portfolio value is greater than the emergency fund value, display a message congratulating the member for having enough money in this fund.\n",
    "\n",
    "* Else if the total portfolio value is equal to the emergency fund value, display a message congratulating the member on reaching this important financial goal.\n",
    "\n",
    "* Else the total portfolio is less than the emergency fund value, so display a message showing how many dollars away the member is from reaching the goal. (Subtract the total portfolio value from the emergency fund value.)\n"
   ]
  },
  {
   "cell_type": "markdown",
   "metadata": {},
   "source": [
    "##### Step 4-1: Create a variable named `emergency_fund_value`, and set it equal to three times the value of the member’s `monthly_income` of 12000. (You set this earlier in Part 1)."
   ]
  },
  {
   "cell_type": "code",
   "execution_count": 27,
   "metadata": {},
   "outputs": [],
   "source": [
    "# Create a variable named emergency_fund_value\n",
    "emergency_fund_value = monthly_income*3\n",
    "\n"
   ]
  },
  {
   "cell_type": "markdown",
   "metadata": {},
   "source": [
    "##### Step 4-2: Create a series of three if statements to determine if the member’s total portfolio is large enough to fund the emergency portfolio:\n",
    "\n",
    "* If the total portfolio value is greater than the emergency fund value, display a message congratulating the member for having enough money in this fund.\n",
    "\n",
    "* Else if the total portfolio value is equal to the emergency fund value, display a message congratulating the member on reaching this important financial goal.\n",
    "\n",
    "* Else the total portfolio is less than the emergency fund value, so display a message showing how many dollars away the member is from reaching the goal. (Subtract the total portfolio value from the emergency fund value.)"
   ]
  },
  {
   "cell_type": "code",
   "execution_count": 28,
   "metadata": {},
   "outputs": [
    {
     "name": "stdout",
     "output_type": "stream",
     "text": [
      "Congratulations!!! You have enough money in the funds.\n"
     ]
    }
   ],
   "source": [
    "# Evaluate the possibility of creating an emergency fund with 3 conditions:\n",
    "# YOUR CODE HERE\n",
    "# YOUR CODE HERE\n",
    "# YOUR CODE HERE\n",
    "if total_portfolio > emergency_fund_value:\n",
    "    print(\"Congratulations!!! You have enough money in the funds.\")\n",
    "elif total_portfolio == emergency_fund_value:\n",
    "    print(\"Congratulations!!! You have reached an important financial goal.\")\n",
    "elif total_portfolio< emergency_fund_value:\n",
    "    money_required = emergency_fund_value-total_portfolio \n",
    "    print(f\"Currently you are ${money_required} away from your goal.\")"
   ]
  },
  {
   "cell_type": "markdown",
   "metadata": {},
   "source": [
    "## Part 2: Create a Financial Planner for Retirement"
   ]
  },
  {
   "cell_type": "markdown",
   "metadata": {},
   "source": [
    "### Create the Monte Carlo Simulation\n",
    "\n",
    "In this section, you’ll use the MCForecastTools library to create a Monte Carlo simulation for the member’s savings portfolio. To do this, complete the following steps:\n",
    "\n",
    "1. Make an API call via the Alpaca SDK to get 3 years of historical closing prices for a traditional 60/40 portfolio split: 60% stocks (SPY) and 40% bonds (AGG).\n",
    "\n",
    "2. Run a Monte Carlo simulation of 500 samples and 30 years for the 60/40 portfolio, and then plot the results.The following image shows the overlay line plot resulting from a simulation with these characteristics. However, because a random number generator is used to run each live Monte Carlo simulation, your image will differ slightly from this exact image:\n",
    "\n",
    "![A screenshot depicts the resulting plot.](Images/5-4-monte-carlo-line-plot.png)\n",
    "\n",
    "3. Plot the probability distribution of the Monte Carlo simulation. Plot the probability distribution of the Monte Carlo simulation. The following image shows the histogram plot resulting from a simulation with these characteristics. However, because a random number generator is used to run each live Monte Carlo simulation, your image will differ slightly from this exact image:\n",
    "\n",
    "![A screenshot depicts the histogram plot.](Images/5-4-monte-carlo-histogram.png)\n",
    "\n",
    "4. Generate the summary statistics for the Monte Carlo simulation.\n",
    "\n"
   ]
  },
  {
   "cell_type": "markdown",
   "metadata": {},
   "source": [
    "#### Step 1: Make an API call via the Alpaca SDK to get 3 years of historical closing prices for a traditional 60/40 portfolio split: 60% stocks (SPY) and 40% bonds (AGG)."
   ]
  },
  {
   "cell_type": "code",
   "execution_count": 29,
   "metadata": {},
   "outputs": [],
   "source": [
    "# Set start and end dates of 3 years back from your current date\n",
    "# Alternatively, you can use an end date of 2020-08-07 and work 3 years back from that date \n",
    "# YOUR CODE HERE\n",
    "# YOUR CODE HERE\n",
    "\n",
    "start_date2 = \"2019-04-09\"\n",
    "end_date2 = \"2022-04-09\"\n",
    "\n",
    "# Set number of rows to 1000 to retrieve the maximum amount of rows\n",
    "# YOUR CODE HERE\n",
    "limit_rows = 1000\n"
   ]
  },
  {
   "cell_type": "code",
   "execution_count": null,
   "metadata": {},
   "outputs": [],
   "source": []
  },
  {
   "cell_type": "code",
   "execution_count": 30,
   "metadata": {},
   "outputs": [
    {
     "data": {
      "text/html": [
       "<div>\n",
       "<style scoped>\n",
       "    .dataframe tbody tr th:only-of-type {\n",
       "        vertical-align: middle;\n",
       "    }\n",
       "\n",
       "    .dataframe tbody tr th {\n",
       "        vertical-align: top;\n",
       "    }\n",
       "\n",
       "    .dataframe thead tr th {\n",
       "        text-align: left;\n",
       "    }\n",
       "\n",
       "    .dataframe thead tr:last-of-type th {\n",
       "        text-align: right;\n",
       "    }\n",
       "</style>\n",
       "<table border=\"1\" class=\"dataframe\">\n",
       "  <thead>\n",
       "    <tr>\n",
       "      <th></th>\n",
       "      <th colspan=\"7\" halign=\"left\">SPY</th>\n",
       "      <th colspan=\"7\" halign=\"left\">AGG</th>\n",
       "    </tr>\n",
       "    <tr>\n",
       "      <th></th>\n",
       "      <th>open</th>\n",
       "      <th>high</th>\n",
       "      <th>low</th>\n",
       "      <th>close</th>\n",
       "      <th>volume</th>\n",
       "      <th>trade_count</th>\n",
       "      <th>vwap</th>\n",
       "      <th>open</th>\n",
       "      <th>high</th>\n",
       "      <th>low</th>\n",
       "      <th>close</th>\n",
       "      <th>volume</th>\n",
       "      <th>trade_count</th>\n",
       "      <th>vwap</th>\n",
       "    </tr>\n",
       "    <tr>\n",
       "      <th>timestamp</th>\n",
       "      <th></th>\n",
       "      <th></th>\n",
       "      <th></th>\n",
       "      <th></th>\n",
       "      <th></th>\n",
       "      <th></th>\n",
       "      <th></th>\n",
       "      <th></th>\n",
       "      <th></th>\n",
       "      <th></th>\n",
       "      <th></th>\n",
       "      <th></th>\n",
       "      <th></th>\n",
       "      <th></th>\n",
       "    </tr>\n",
       "  </thead>\n",
       "  <tbody>\n",
       "    <tr>\n",
       "      <th>2019-04-09 04:00:00+00:00</th>\n",
       "      <td>287.72</td>\n",
       "      <td>288.0800</td>\n",
       "      <td>286.700</td>\n",
       "      <td>287.31</td>\n",
       "      <td>66455332.0</td>\n",
       "      <td>271849.0</td>\n",
       "      <td>287.485967</td>\n",
       "      <td>108.47</td>\n",
       "      <td>108.5200</td>\n",
       "      <td>108.390</td>\n",
       "      <td>108.40</td>\n",
       "      <td>3753844</td>\n",
       "      <td>14155</td>\n",
       "      <td>108.433285</td>\n",
       "    </tr>\n",
       "    <tr>\n",
       "      <th>2019-04-10 04:00:00+00:00</th>\n",
       "      <td>287.77</td>\n",
       "      <td>288.3899</td>\n",
       "      <td>287.310</td>\n",
       "      <td>288.29</td>\n",
       "      <td>52754039.0</td>\n",
       "      <td>204506.0</td>\n",
       "      <td>287.884283</td>\n",
       "      <td>108.55</td>\n",
       "      <td>108.6367</td>\n",
       "      <td>108.495</td>\n",
       "      <td>108.61</td>\n",
       "      <td>4682782</td>\n",
       "      <td>13735</td>\n",
       "      <td>108.559902</td>\n",
       "    </tr>\n",
       "    <tr>\n",
       "      <th>2019-04-11 04:00:00+00:00</th>\n",
       "      <td>288.84</td>\n",
       "      <td>288.8400</td>\n",
       "      <td>287.578</td>\n",
       "      <td>288.21</td>\n",
       "      <td>55098100.0</td>\n",
       "      <td>205244.0</td>\n",
       "      <td>288.161064</td>\n",
       "      <td>108.53</td>\n",
       "      <td>108.5300</td>\n",
       "      <td>108.420</td>\n",
       "      <td>108.48</td>\n",
       "      <td>2827701</td>\n",
       "      <td>11884</td>\n",
       "      <td>108.476795</td>\n",
       "    </tr>\n",
       "    <tr>\n",
       "      <th>2019-04-12 04:00:00+00:00</th>\n",
       "      <td>290.01</td>\n",
       "      <td>290.4700</td>\n",
       "      <td>288.261</td>\n",
       "      <td>290.16</td>\n",
       "      <td>69835782.0</td>\n",
       "      <td>232166.0</td>\n",
       "      <td>289.776012</td>\n",
       "      <td>108.26</td>\n",
       "      <td>108.3500</td>\n",
       "      <td>108.220</td>\n",
       "      <td>108.27</td>\n",
       "      <td>2430609</td>\n",
       "      <td>11376</td>\n",
       "      <td>108.269606</td>\n",
       "    </tr>\n",
       "    <tr>\n",
       "      <th>2019-04-15 04:00:00+00:00</th>\n",
       "      <td>290.27</td>\n",
       "      <td>290.3500</td>\n",
       "      <td>289.075</td>\n",
       "      <td>289.97</td>\n",
       "      <td>50222730.0</td>\n",
       "      <td>199622.0</td>\n",
       "      <td>289.773677</td>\n",
       "      <td>108.21</td>\n",
       "      <td>108.3000</td>\n",
       "      <td>108.210</td>\n",
       "      <td>108.25</td>\n",
       "      <td>2546204</td>\n",
       "      <td>10053</td>\n",
       "      <td>108.253507</td>\n",
       "    </tr>\n",
       "  </tbody>\n",
       "</table>\n",
       "</div>"
      ],
      "text/plain": [
       "                              SPY                                         \\\n",
       "                             open      high      low   close      volume   \n",
       "timestamp                                                                  \n",
       "2019-04-09 04:00:00+00:00  287.72  288.0800  286.700  287.31  66455332.0   \n",
       "2019-04-10 04:00:00+00:00  287.77  288.3899  287.310  288.29  52754039.0   \n",
       "2019-04-11 04:00:00+00:00  288.84  288.8400  287.578  288.21  55098100.0   \n",
       "2019-04-12 04:00:00+00:00  290.01  290.4700  288.261  290.16  69835782.0   \n",
       "2019-04-15 04:00:00+00:00  290.27  290.3500  289.075  289.97  50222730.0   \n",
       "\n",
       "                                                      AGG                     \\\n",
       "                          trade_count        vwap    open      high      low   \n",
       "timestamp                                                                      \n",
       "2019-04-09 04:00:00+00:00    271849.0  287.485967  108.47  108.5200  108.390   \n",
       "2019-04-10 04:00:00+00:00    204506.0  287.884283  108.55  108.6367  108.495   \n",
       "2019-04-11 04:00:00+00:00    205244.0  288.161064  108.53  108.5300  108.420   \n",
       "2019-04-12 04:00:00+00:00    232166.0  289.776012  108.26  108.3500  108.220   \n",
       "2019-04-15 04:00:00+00:00    199622.0  289.773677  108.21  108.3000  108.210   \n",
       "\n",
       "                                                                    \n",
       "                            close   volume trade_count        vwap  \n",
       "timestamp                                                           \n",
       "2019-04-09 04:00:00+00:00  108.40  3753844       14155  108.433285  \n",
       "2019-04-10 04:00:00+00:00  108.61  4682782       13735  108.559902  \n",
       "2019-04-11 04:00:00+00:00  108.48  2827701       11884  108.476795  \n",
       "2019-04-12 04:00:00+00:00  108.27  2430609       11376  108.269606  \n",
       "2019-04-15 04:00:00+00:00  108.25  2546204       10053  108.253507  "
      ]
     },
     "metadata": {},
     "output_type": "display_data"
    },
    {
     "data": {
      "text/html": [
       "<div>\n",
       "<style scoped>\n",
       "    .dataframe tbody tr th:only-of-type {\n",
       "        vertical-align: middle;\n",
       "    }\n",
       "\n",
       "    .dataframe tbody tr th {\n",
       "        vertical-align: top;\n",
       "    }\n",
       "\n",
       "    .dataframe thead tr th {\n",
       "        text-align: left;\n",
       "    }\n",
       "\n",
       "    .dataframe thead tr:last-of-type th {\n",
       "        text-align: right;\n",
       "    }\n",
       "</style>\n",
       "<table border=\"1\" class=\"dataframe\">\n",
       "  <thead>\n",
       "    <tr>\n",
       "      <th></th>\n",
       "      <th colspan=\"7\" halign=\"left\">SPY</th>\n",
       "      <th colspan=\"7\" halign=\"left\">AGG</th>\n",
       "    </tr>\n",
       "    <tr>\n",
       "      <th></th>\n",
       "      <th>open</th>\n",
       "      <th>high</th>\n",
       "      <th>low</th>\n",
       "      <th>close</th>\n",
       "      <th>volume</th>\n",
       "      <th>trade_count</th>\n",
       "      <th>vwap</th>\n",
       "      <th>open</th>\n",
       "      <th>high</th>\n",
       "      <th>low</th>\n",
       "      <th>close</th>\n",
       "      <th>volume</th>\n",
       "      <th>trade_count</th>\n",
       "      <th>vwap</th>\n",
       "    </tr>\n",
       "    <tr>\n",
       "      <th>timestamp</th>\n",
       "      <th></th>\n",
       "      <th></th>\n",
       "      <th></th>\n",
       "      <th></th>\n",
       "      <th></th>\n",
       "      <th></th>\n",
       "      <th></th>\n",
       "      <th></th>\n",
       "      <th></th>\n",
       "      <th></th>\n",
       "      <th></th>\n",
       "      <th></th>\n",
       "      <th></th>\n",
       "      <th></th>\n",
       "    </tr>\n",
       "  </thead>\n",
       "  <tbody>\n",
       "    <tr>\n",
       "      <th>2022-04-04 04:00:00+00:00</th>\n",
       "      <td>NaN</td>\n",
       "      <td>NaN</td>\n",
       "      <td>NaN</td>\n",
       "      <td>NaN</td>\n",
       "      <td>NaN</td>\n",
       "      <td>NaN</td>\n",
       "      <td>NaN</td>\n",
       "      <td>106.87</td>\n",
       "      <td>106.870</td>\n",
       "      <td>106.560</td>\n",
       "      <td>106.84</td>\n",
       "      <td>9956493</td>\n",
       "      <td>32544</td>\n",
       "      <td>106.739298</td>\n",
       "    </tr>\n",
       "    <tr>\n",
       "      <th>2022-04-05 04:00:00+00:00</th>\n",
       "      <td>NaN</td>\n",
       "      <td>NaN</td>\n",
       "      <td>NaN</td>\n",
       "      <td>NaN</td>\n",
       "      <td>NaN</td>\n",
       "      <td>NaN</td>\n",
       "      <td>NaN</td>\n",
       "      <td>106.60</td>\n",
       "      <td>106.625</td>\n",
       "      <td>105.740</td>\n",
       "      <td>105.76</td>\n",
       "      <td>11018430</td>\n",
       "      <td>34684</td>\n",
       "      <td>105.931526</td>\n",
       "    </tr>\n",
       "    <tr>\n",
       "      <th>2022-04-06 04:00:00+00:00</th>\n",
       "      <td>NaN</td>\n",
       "      <td>NaN</td>\n",
       "      <td>NaN</td>\n",
       "      <td>NaN</td>\n",
       "      <td>NaN</td>\n",
       "      <td>NaN</td>\n",
       "      <td>NaN</td>\n",
       "      <td>105.20</td>\n",
       "      <td>105.805</td>\n",
       "      <td>105.115</td>\n",
       "      <td>105.49</td>\n",
       "      <td>13322630</td>\n",
       "      <td>47090</td>\n",
       "      <td>105.463015</td>\n",
       "    </tr>\n",
       "    <tr>\n",
       "      <th>2022-04-07 04:00:00+00:00</th>\n",
       "      <td>NaN</td>\n",
       "      <td>NaN</td>\n",
       "      <td>NaN</td>\n",
       "      <td>NaN</td>\n",
       "      <td>NaN</td>\n",
       "      <td>NaN</td>\n",
       "      <td>NaN</td>\n",
       "      <td>105.38</td>\n",
       "      <td>105.510</td>\n",
       "      <td>105.130</td>\n",
       "      <td>105.26</td>\n",
       "      <td>7921117</td>\n",
       "      <td>25631</td>\n",
       "      <td>105.278761</td>\n",
       "    </tr>\n",
       "    <tr>\n",
       "      <th>2022-04-08 04:00:00+00:00</th>\n",
       "      <td>NaN</td>\n",
       "      <td>NaN</td>\n",
       "      <td>NaN</td>\n",
       "      <td>NaN</td>\n",
       "      <td>NaN</td>\n",
       "      <td>NaN</td>\n",
       "      <td>NaN</td>\n",
       "      <td>104.82</td>\n",
       "      <td>105.010</td>\n",
       "      <td>104.615</td>\n",
       "      <td>104.73</td>\n",
       "      <td>6501822</td>\n",
       "      <td>24900</td>\n",
       "      <td>104.804999</td>\n",
       "    </tr>\n",
       "  </tbody>\n",
       "</table>\n",
       "</div>"
      ],
      "text/plain": [
       "                           SPY                                            AGG  \\\n",
       "                          open high low close volume trade_count vwap    open   \n",
       "timestamp                                                                       \n",
       "2022-04-04 04:00:00+00:00  NaN  NaN NaN   NaN    NaN         NaN  NaN  106.87   \n",
       "2022-04-05 04:00:00+00:00  NaN  NaN NaN   NaN    NaN         NaN  NaN  106.60   \n",
       "2022-04-06 04:00:00+00:00  NaN  NaN NaN   NaN    NaN         NaN  NaN  105.20   \n",
       "2022-04-07 04:00:00+00:00  NaN  NaN NaN   NaN    NaN         NaN  NaN  105.38   \n",
       "2022-04-08 04:00:00+00:00  NaN  NaN NaN   NaN    NaN         NaN  NaN  104.82   \n",
       "\n",
       "                                                                           \\\n",
       "                              high      low   close    volume trade_count   \n",
       "timestamp                                                                   \n",
       "2022-04-04 04:00:00+00:00  106.870  106.560  106.84   9956493       32544   \n",
       "2022-04-05 04:00:00+00:00  106.625  105.740  105.76  11018430       34684   \n",
       "2022-04-06 04:00:00+00:00  105.805  105.115  105.49  13322630       47090   \n",
       "2022-04-07 04:00:00+00:00  105.510  105.130  105.26   7921117       25631   \n",
       "2022-04-08 04:00:00+00:00  105.010  104.615  104.73   6501822       24900   \n",
       "\n",
       "                                       \n",
       "                                 vwap  \n",
       "timestamp                              \n",
       "2022-04-04 04:00:00+00:00  106.739298  \n",
       "2022-04-05 04:00:00+00:00  105.931526  \n",
       "2022-04-06 04:00:00+00:00  105.463015  \n",
       "2022-04-07 04:00:00+00:00  105.278761  \n",
       "2022-04-08 04:00:00+00:00  104.804999  "
      ]
     },
     "metadata": {},
     "output_type": "display_data"
    }
   ],
   "source": [
    "    # Use the Alpaca get_bars function to make the API call to get the 3 years worth of pricing data\n",
    "# The tickers and timeframe parameters should have been set in Part 1 of this activity \n",
    "# The start and end dates should be updated with the information set above\n",
    "# Remember to add the df property to the end of the call so the response is returned as a DataFrame\n",
    "# YOUR CODE HERE\n",
    "\n",
    "# Reorganize the DataFrame\n",
    "# Separate ticker data\n",
    "# YOUR CODE HERE\n",
    "historical_prices_df = alpaca.get_bars(tickers,timeframe,start_date2,end_date2, limit=limit_rows).df\n",
    "# Concatenate the ticker DataFrames\n",
    "# YOUR CODE HERE\n",
    "historical_spy = historical_prices_df[historical_prices_df[\"symbol\"]==\"SPY\"].drop('symbol', axis =1)\n",
    "\n",
    "historical_agg = historical_prices_df[historical_prices_df[\"symbol\"]==\"AGG\"].drop('symbol', axis =1)\n",
    "\n",
    "historical_prices_df = pd.concat([historical_spy,historical_agg], axis =1, keys =[\"SPY\",\"AGG\"])\n",
    "# Display both the first and last five rows of the DataFrame\n",
    "# YOUR CODE HERE\n",
    "# YOUR CODE HERE\n",
    "\n",
    "\n",
    "\n",
    "\n",
    "\n",
    "display(historical_prices_df.head())\n",
    "display(historical_prices_df.tail())\n",
    "#there are only 758 rowsin our DF as our data spans over only 3 years of historical data"
   ]
  },
  {
   "cell_type": "code",
   "execution_count": null,
   "metadata": {},
   "outputs": [],
   "source": []
  },
  {
   "cell_type": "markdown",
   "metadata": {},
   "source": [
    "#### Step 2: Run a Monte Carlo simulation of 500 samples and 30 years for the 60/40 portfolio, and then plot the results."
   ]
  },
  {
   "cell_type": "code",
   "execution_count": 36,
   "metadata": {},
   "outputs": [],
   "source": [
    "# Configure the Monte Carlo simulation to forecast 30 years cumulative returns\n",
    "# The weights should be split 40% to AGG and 60% to SPY.\n",
    "# Run 500 samples.\n",
    "\n",
    "mc_30year_simulation = MCSimulation(portfolio_data = historical_prices_df,\n",
    "    weights = [.60,.40],\n",
    "    num_simulation = 500,\n",
    "    num_trading_days = 252*30)\n",
    "# Review the simulation input data\n",
    "# YOUR CODE HERE\n",
    "mc_30year_simulation.portfolio_data.dropna(inplace = True)"
   ]
  },
  {
   "cell_type": "code",
   "execution_count": 37,
   "metadata": {},
   "outputs": [
    {
     "name": "stdout",
     "output_type": "stream",
     "text": [
      "Running Monte Carlo simulation number 0.\n",
      "Running Monte Carlo simulation number 10.\n",
      "Running Monte Carlo simulation number 20.\n",
      "Running Monte Carlo simulation number 30.\n",
      "Running Monte Carlo simulation number 40.\n",
      "Running Monte Carlo simulation number 50.\n",
      "Running Monte Carlo simulation number 60.\n",
      "Running Monte Carlo simulation number 70.\n",
      "Running Monte Carlo simulation number 80.\n",
      "Running Monte Carlo simulation number 90.\n",
      "Running Monte Carlo simulation number 100.\n"
     ]
    },
    {
     "name": "stderr",
     "output_type": "stream",
     "text": [
      "/Users/babinshrestha/Desktop/Workspace/week 5/week 5 challange/MCForecastTools.py:117: PerformanceWarning: DataFrame is highly fragmented.  This is usually the result of calling `frame.insert` many times, which has poor performance.  Consider joining all columns at once using pd.concat(axis=1) instead.  To get a de-fragmented frame, use `newframe = frame.copy()`\n",
      "  portfolio_cumulative_returns[n] = (1 + sim_df.fillna(0)).cumprod()\n"
     ]
    },
    {
     "name": "stdout",
     "output_type": "stream",
     "text": [
      "Running Monte Carlo simulation number 110.\n",
      "Running Monte Carlo simulation number 120.\n",
      "Running Monte Carlo simulation number 130.\n",
      "Running Monte Carlo simulation number 140.\n",
      "Running Monte Carlo simulation number 150.\n",
      "Running Monte Carlo simulation number 160.\n",
      "Running Monte Carlo simulation number 170.\n",
      "Running Monte Carlo simulation number 180.\n",
      "Running Monte Carlo simulation number 190.\n",
      "Running Monte Carlo simulation number 200.\n",
      "Running Monte Carlo simulation number 210.\n",
      "Running Monte Carlo simulation number 220.\n",
      "Running Monte Carlo simulation number 230.\n",
      "Running Monte Carlo simulation number 240.\n",
      "Running Monte Carlo simulation number 250.\n",
      "Running Monte Carlo simulation number 260.\n",
      "Running Monte Carlo simulation number 270.\n",
      "Running Monte Carlo simulation number 280.\n",
      "Running Monte Carlo simulation number 290.\n",
      "Running Monte Carlo simulation number 300.\n",
      "Running Monte Carlo simulation number 310.\n",
      "Running Monte Carlo simulation number 320.\n",
      "Running Monte Carlo simulation number 330.\n",
      "Running Monte Carlo simulation number 340.\n",
      "Running Monte Carlo simulation number 350.\n",
      "Running Monte Carlo simulation number 360.\n",
      "Running Monte Carlo simulation number 370.\n",
      "Running Monte Carlo simulation number 380.\n",
      "Running Monte Carlo simulation number 390.\n",
      "Running Monte Carlo simulation number 400.\n",
      "Running Monte Carlo simulation number 410.\n",
      "Running Monte Carlo simulation number 420.\n",
      "Running Monte Carlo simulation number 430.\n",
      "Running Monte Carlo simulation number 440.\n",
      "Running Monte Carlo simulation number 450.\n",
      "Running Monte Carlo simulation number 460.\n",
      "Running Monte Carlo simulation number 470.\n",
      "Running Monte Carlo simulation number 480.\n",
      "Running Monte Carlo simulation number 490.\n"
     ]
    },
    {
     "data": {
      "text/html": [
       "<div>\n",
       "<style scoped>\n",
       "    .dataframe tbody tr th:only-of-type {\n",
       "        vertical-align: middle;\n",
       "    }\n",
       "\n",
       "    .dataframe tbody tr th {\n",
       "        vertical-align: top;\n",
       "    }\n",
       "\n",
       "    .dataframe thead th {\n",
       "        text-align: right;\n",
       "    }\n",
       "</style>\n",
       "<table border=\"1\" class=\"dataframe\">\n",
       "  <thead>\n",
       "    <tr style=\"text-align: right;\">\n",
       "      <th></th>\n",
       "      <th>0</th>\n",
       "      <th>1</th>\n",
       "      <th>2</th>\n",
       "      <th>3</th>\n",
       "      <th>4</th>\n",
       "      <th>5</th>\n",
       "      <th>6</th>\n",
       "      <th>7</th>\n",
       "      <th>8</th>\n",
       "      <th>9</th>\n",
       "      <th>...</th>\n",
       "      <th>490</th>\n",
       "      <th>491</th>\n",
       "      <th>492</th>\n",
       "      <th>493</th>\n",
       "      <th>494</th>\n",
       "      <th>495</th>\n",
       "      <th>496</th>\n",
       "      <th>497</th>\n",
       "      <th>498</th>\n",
       "      <th>499</th>\n",
       "    </tr>\n",
       "  </thead>\n",
       "  <tbody>\n",
       "    <tr>\n",
       "      <th>0</th>\n",
       "      <td>1.000000</td>\n",
       "      <td>1.000000</td>\n",
       "      <td>1.000000</td>\n",
       "      <td>1.000000</td>\n",
       "      <td>1.000000</td>\n",
       "      <td>1.000000</td>\n",
       "      <td>1.000000</td>\n",
       "      <td>1.000000</td>\n",
       "      <td>1.000000</td>\n",
       "      <td>1.000000</td>\n",
       "      <td>...</td>\n",
       "      <td>1.000000</td>\n",
       "      <td>1.000000</td>\n",
       "      <td>1.000000</td>\n",
       "      <td>1.000000</td>\n",
       "      <td>1.000000</td>\n",
       "      <td>1.000000</td>\n",
       "      <td>1.000000</td>\n",
       "      <td>1.000000</td>\n",
       "      <td>1.000000</td>\n",
       "      <td>1.000000</td>\n",
       "    </tr>\n",
       "    <tr>\n",
       "      <th>1</th>\n",
       "      <td>1.019606</td>\n",
       "      <td>0.988883</td>\n",
       "      <td>0.989116</td>\n",
       "      <td>1.015334</td>\n",
       "      <td>1.006922</td>\n",
       "      <td>1.013456</td>\n",
       "      <td>0.993961</td>\n",
       "      <td>0.980929</td>\n",
       "      <td>1.009646</td>\n",
       "      <td>1.013757</td>\n",
       "      <td>...</td>\n",
       "      <td>0.990905</td>\n",
       "      <td>0.998397</td>\n",
       "      <td>0.983541</td>\n",
       "      <td>1.007198</td>\n",
       "      <td>1.015379</td>\n",
       "      <td>1.005864</td>\n",
       "      <td>0.983607</td>\n",
       "      <td>0.993455</td>\n",
       "      <td>1.007606</td>\n",
       "      <td>0.988058</td>\n",
       "    </tr>\n",
       "    <tr>\n",
       "      <th>2</th>\n",
       "      <td>1.007951</td>\n",
       "      <td>1.015732</td>\n",
       "      <td>1.005270</td>\n",
       "      <td>1.022784</td>\n",
       "      <td>1.011651</td>\n",
       "      <td>1.020497</td>\n",
       "      <td>0.989507</td>\n",
       "      <td>0.969872</td>\n",
       "      <td>1.013913</td>\n",
       "      <td>1.022490</td>\n",
       "      <td>...</td>\n",
       "      <td>0.997833</td>\n",
       "      <td>1.013133</td>\n",
       "      <td>0.981949</td>\n",
       "      <td>0.977438</td>\n",
       "      <td>1.011881</td>\n",
       "      <td>1.018530</td>\n",
       "      <td>0.986709</td>\n",
       "      <td>0.994644</td>\n",
       "      <td>1.005310</td>\n",
       "      <td>1.009102</td>\n",
       "    </tr>\n",
       "    <tr>\n",
       "      <th>3</th>\n",
       "      <td>1.002303</td>\n",
       "      <td>1.013164</td>\n",
       "      <td>1.006275</td>\n",
       "      <td>1.006676</td>\n",
       "      <td>0.987150</td>\n",
       "      <td>1.026076</td>\n",
       "      <td>0.986833</td>\n",
       "      <td>0.967159</td>\n",
       "      <td>1.003508</td>\n",
       "      <td>1.039330</td>\n",
       "      <td>...</td>\n",
       "      <td>0.999438</td>\n",
       "      <td>1.000428</td>\n",
       "      <td>0.979929</td>\n",
       "      <td>0.966233</td>\n",
       "      <td>1.016119</td>\n",
       "      <td>1.010733</td>\n",
       "      <td>0.986266</td>\n",
       "      <td>1.000461</td>\n",
       "      <td>0.996406</td>\n",
       "      <td>1.014551</td>\n",
       "    </tr>\n",
       "    <tr>\n",
       "      <th>4</th>\n",
       "      <td>1.015362</td>\n",
       "      <td>1.016202</td>\n",
       "      <td>1.015182</td>\n",
       "      <td>0.988973</td>\n",
       "      <td>0.994975</td>\n",
       "      <td>1.026195</td>\n",
       "      <td>0.971465</td>\n",
       "      <td>0.965346</td>\n",
       "      <td>1.027913</td>\n",
       "      <td>1.056422</td>\n",
       "      <td>...</td>\n",
       "      <td>1.028891</td>\n",
       "      <td>1.011474</td>\n",
       "      <td>0.986533</td>\n",
       "      <td>0.955890</td>\n",
       "      <td>1.019647</td>\n",
       "      <td>0.998737</td>\n",
       "      <td>0.974962</td>\n",
       "      <td>1.015040</td>\n",
       "      <td>0.981422</td>\n",
       "      <td>0.999153</td>\n",
       "    </tr>\n",
       "    <tr>\n",
       "      <th>...</th>\n",
       "      <td>...</td>\n",
       "      <td>...</td>\n",
       "      <td>...</td>\n",
       "      <td>...</td>\n",
       "      <td>...</td>\n",
       "      <td>...</td>\n",
       "      <td>...</td>\n",
       "      <td>...</td>\n",
       "      <td>...</td>\n",
       "      <td>...</td>\n",
       "      <td>...</td>\n",
       "      <td>...</td>\n",
       "      <td>...</td>\n",
       "      <td>...</td>\n",
       "      <td>...</td>\n",
       "      <td>...</td>\n",
       "      <td>...</td>\n",
       "      <td>...</td>\n",
       "      <td>...</td>\n",
       "      <td>...</td>\n",
       "      <td>...</td>\n",
       "    </tr>\n",
       "    <tr>\n",
       "      <th>7556</th>\n",
       "      <td>0.089079</td>\n",
       "      <td>0.298784</td>\n",
       "      <td>0.286412</td>\n",
       "      <td>0.044883</td>\n",
       "      <td>0.251767</td>\n",
       "      <td>0.208758</td>\n",
       "      <td>0.609531</td>\n",
       "      <td>0.077236</td>\n",
       "      <td>0.085237</td>\n",
       "      <td>0.261970</td>\n",
       "      <td>...</td>\n",
       "      <td>0.244774</td>\n",
       "      <td>0.121785</td>\n",
       "      <td>0.155504</td>\n",
       "      <td>0.329970</td>\n",
       "      <td>0.095828</td>\n",
       "      <td>0.722657</td>\n",
       "      <td>0.168885</td>\n",
       "      <td>0.030127</td>\n",
       "      <td>0.101475</td>\n",
       "      <td>0.056987</td>\n",
       "    </tr>\n",
       "    <tr>\n",
       "      <th>7557</th>\n",
       "      <td>0.089729</td>\n",
       "      <td>0.298301</td>\n",
       "      <td>0.292135</td>\n",
       "      <td>0.044510</td>\n",
       "      <td>0.252214</td>\n",
       "      <td>0.204645</td>\n",
       "      <td>0.612824</td>\n",
       "      <td>0.076843</td>\n",
       "      <td>0.085001</td>\n",
       "      <td>0.262922</td>\n",
       "      <td>...</td>\n",
       "      <td>0.246754</td>\n",
       "      <td>0.120563</td>\n",
       "      <td>0.154375</td>\n",
       "      <td>0.336445</td>\n",
       "      <td>0.094496</td>\n",
       "      <td>0.725400</td>\n",
       "      <td>0.170980</td>\n",
       "      <td>0.030385</td>\n",
       "      <td>0.100271</td>\n",
       "      <td>0.056841</td>\n",
       "    </tr>\n",
       "    <tr>\n",
       "      <th>7558</th>\n",
       "      <td>0.089506</td>\n",
       "      <td>0.302180</td>\n",
       "      <td>0.287783</td>\n",
       "      <td>0.044460</td>\n",
       "      <td>0.248228</td>\n",
       "      <td>0.202634</td>\n",
       "      <td>0.617479</td>\n",
       "      <td>0.076957</td>\n",
       "      <td>0.086054</td>\n",
       "      <td>0.260901</td>\n",
       "      <td>...</td>\n",
       "      <td>0.249068</td>\n",
       "      <td>0.118623</td>\n",
       "      <td>0.153700</td>\n",
       "      <td>0.339526</td>\n",
       "      <td>0.094885</td>\n",
       "      <td>0.725483</td>\n",
       "      <td>0.173718</td>\n",
       "      <td>0.030302</td>\n",
       "      <td>0.099296</td>\n",
       "      <td>0.057199</td>\n",
       "    </tr>\n",
       "    <tr>\n",
       "      <th>7559</th>\n",
       "      <td>0.088558</td>\n",
       "      <td>0.304069</td>\n",
       "      <td>0.287857</td>\n",
       "      <td>0.044531</td>\n",
       "      <td>0.248561</td>\n",
       "      <td>0.205591</td>\n",
       "      <td>0.620161</td>\n",
       "      <td>0.075769</td>\n",
       "      <td>0.086821</td>\n",
       "      <td>0.257560</td>\n",
       "      <td>...</td>\n",
       "      <td>0.252317</td>\n",
       "      <td>0.117528</td>\n",
       "      <td>0.155614</td>\n",
       "      <td>0.336283</td>\n",
       "      <td>0.096589</td>\n",
       "      <td>0.726030</td>\n",
       "      <td>0.176734</td>\n",
       "      <td>0.030715</td>\n",
       "      <td>0.099290</td>\n",
       "      <td>0.056565</td>\n",
       "    </tr>\n",
       "    <tr>\n",
       "      <th>7560</th>\n",
       "      <td>0.087649</td>\n",
       "      <td>0.303120</td>\n",
       "      <td>0.286223</td>\n",
       "      <td>0.044362</td>\n",
       "      <td>0.245072</td>\n",
       "      <td>0.205447</td>\n",
       "      <td>0.611472</td>\n",
       "      <td>0.074781</td>\n",
       "      <td>0.087553</td>\n",
       "      <td>0.252491</td>\n",
       "      <td>...</td>\n",
       "      <td>0.248841</td>\n",
       "      <td>0.116184</td>\n",
       "      <td>0.158177</td>\n",
       "      <td>0.336912</td>\n",
       "      <td>0.097566</td>\n",
       "      <td>0.713782</td>\n",
       "      <td>0.175010</td>\n",
       "      <td>0.030533</td>\n",
       "      <td>0.101525</td>\n",
       "      <td>0.056761</td>\n",
       "    </tr>\n",
       "  </tbody>\n",
       "</table>\n",
       "<p>7561 rows × 500 columns</p>\n",
       "</div>"
      ],
      "text/plain": [
       "           0         1         2         3         4         5         6    \\\n",
       "0     1.000000  1.000000  1.000000  1.000000  1.000000  1.000000  1.000000   \n",
       "1     1.019606  0.988883  0.989116  1.015334  1.006922  1.013456  0.993961   \n",
       "2     1.007951  1.015732  1.005270  1.022784  1.011651  1.020497  0.989507   \n",
       "3     1.002303  1.013164  1.006275  1.006676  0.987150  1.026076  0.986833   \n",
       "4     1.015362  1.016202  1.015182  0.988973  0.994975  1.026195  0.971465   \n",
       "...        ...       ...       ...       ...       ...       ...       ...   \n",
       "7556  0.089079  0.298784  0.286412  0.044883  0.251767  0.208758  0.609531   \n",
       "7557  0.089729  0.298301  0.292135  0.044510  0.252214  0.204645  0.612824   \n",
       "7558  0.089506  0.302180  0.287783  0.044460  0.248228  0.202634  0.617479   \n",
       "7559  0.088558  0.304069  0.287857  0.044531  0.248561  0.205591  0.620161   \n",
       "7560  0.087649  0.303120  0.286223  0.044362  0.245072  0.205447  0.611472   \n",
       "\n",
       "           7         8         9    ...       490       491       492  \\\n",
       "0     1.000000  1.000000  1.000000  ...  1.000000  1.000000  1.000000   \n",
       "1     0.980929  1.009646  1.013757  ...  0.990905  0.998397  0.983541   \n",
       "2     0.969872  1.013913  1.022490  ...  0.997833  1.013133  0.981949   \n",
       "3     0.967159  1.003508  1.039330  ...  0.999438  1.000428  0.979929   \n",
       "4     0.965346  1.027913  1.056422  ...  1.028891  1.011474  0.986533   \n",
       "...        ...       ...       ...  ...       ...       ...       ...   \n",
       "7556  0.077236  0.085237  0.261970  ...  0.244774  0.121785  0.155504   \n",
       "7557  0.076843  0.085001  0.262922  ...  0.246754  0.120563  0.154375   \n",
       "7558  0.076957  0.086054  0.260901  ...  0.249068  0.118623  0.153700   \n",
       "7559  0.075769  0.086821  0.257560  ...  0.252317  0.117528  0.155614   \n",
       "7560  0.074781  0.087553  0.252491  ...  0.248841  0.116184  0.158177   \n",
       "\n",
       "           493       494       495       496       497       498       499  \n",
       "0     1.000000  1.000000  1.000000  1.000000  1.000000  1.000000  1.000000  \n",
       "1     1.007198  1.015379  1.005864  0.983607  0.993455  1.007606  0.988058  \n",
       "2     0.977438  1.011881  1.018530  0.986709  0.994644  1.005310  1.009102  \n",
       "3     0.966233  1.016119  1.010733  0.986266  1.000461  0.996406  1.014551  \n",
       "4     0.955890  1.019647  0.998737  0.974962  1.015040  0.981422  0.999153  \n",
       "...        ...       ...       ...       ...       ...       ...       ...  \n",
       "7556  0.329970  0.095828  0.722657  0.168885  0.030127  0.101475  0.056987  \n",
       "7557  0.336445  0.094496  0.725400  0.170980  0.030385  0.100271  0.056841  \n",
       "7558  0.339526  0.094885  0.725483  0.173718  0.030302  0.099296  0.057199  \n",
       "7559  0.336283  0.096589  0.726030  0.176734  0.030715  0.099290  0.056565  \n",
       "7560  0.336912  0.097566  0.713782  0.175010  0.030533  0.101525  0.056761  \n",
       "\n",
       "[7561 rows x 500 columns]"
      ]
     },
     "execution_count": 37,
     "metadata": {},
     "output_type": "execute_result"
    }
   ],
   "source": [
    "# Run the Monte Carlo simulation to forecast 30 years cumulative returns\n",
    "# YOUR CODE HERE\n",
    "mc_30year_simulation.calc_cumulative_return().dropna()"
   ]
  },
  {
   "cell_type": "code",
   "execution_count": 38,
   "metadata": {},
   "outputs": [
    {
     "data": {
      "text/plain": [
       "<MCForecastTools.MCSimulation at 0x7fdd7a939c10>"
      ]
     },
     "execution_count": 38,
     "metadata": {},
     "output_type": "execute_result"
    }
   ],
   "source": [
    "mc_30year_simulation\n"
   ]
  },
  {
   "cell_type": "code",
   "execution_count": 39,
   "metadata": {},
   "outputs": [
    {
     "data": {
      "image/png": "[encoded data removed]",
      "text/plain": [
       "<Figure size 432x288 with 1 Axes>"
      ]
     },
     "metadata": {
      "needs_background": "light"
     },
     "output_type": "display_data"
    }
   ],
   "source": [
    "# Visualize the 30-year Monte Carlo simulation by creating an\n",
    "# overlay line plot\n",
    "mc_30year_simulation_plot = mc_30year_simulation.plot_simulation()\n",
    "mc_30year_simulation_plot.get_figure().savefig(\"mc_30year_simulation.png\", bbox_inches=\"tight\")\n"
   ]
  },
  {
   "cell_type": "markdown",
   "metadata": {},
   "source": [
    "#### Step 3: Plot the probability distribution of the Monte Carlo simulation."
   ]
  },
  {
   "cell_type": "code",
   "execution_count": 40,
   "metadata": {},
   "outputs": [
    {
     "data": {
      "image/png": "[encoded data removed]",
      "text/plain": [
       "<Figure size 432x288 with 1 Axes>"
      ]
     },
     "metadata": {
      "needs_background": "light"
     },
     "output_type": "display_data"
    }
   ],
   "source": [
    "# Visualize the probability distribution of the 30-year Monte Carlo simulation \n",
    "# by plotting a histogram\n",
    "mc_30year_simulation_hist = mc_30year_simulation.plot_distribution()\n",
    "mc_30year_simulation_hist.get_figure().savefig('mc_30year_dist_plot.png',bbox_inches='tight')"
   ]
  },
  {
   "cell_type": "markdown",
   "metadata": {},
   "source": [
    "#### Step 4: Generate the summary statistics for the Monte Carlo simulation."
   ]
  },
  {
   "cell_type": "code",
   "execution_count": 41,
   "metadata": {},
   "outputs": [
    {
     "name": "stdout",
     "output_type": "stream",
     "text": [
      "count           500.000000\n",
      "mean              0.190201\n",
      "std               0.230132\n",
      "min               0.009033\n",
      "25%               0.057432\n",
      "50%               0.115727\n",
      "75%               0.230475\n",
      "max               1.963162\n",
      "95% CI Lower      0.015552\n",
      "95% CI Upper      0.858345\n",
      "Name: 7560, dtype: float64\n"
     ]
    }
   ],
   "source": [
    "# Generate summary statistics from the 30-year Monte Carlo simulation results\n",
    "# Save the results as a variable\n",
    "# YOUR CODE HERE\n",
    "mc_30year_summary = mc_30year_simulation.summarize_cumulative_return()\n",
    "\n",
    "# Print summary statistics Series\n",
    "print(mc_30year_summary)\n",
    "\n",
    "# Review the 30-year Monte Carlo summary statistics\n",
    "# YOUR CODE HERE"
   ]
  },
  {
   "cell_type": "markdown",
   "metadata": {},
   "source": [
    "### Analyze the Retirement Portfolio Forecasts\n",
    "\n",
    "Using the current value of only the stock and bond portion of the member's portfolio and the summary statistics that you generated from the Monte Carlo simulation, answer the following question in your Jupyter notebook:\n",
    "\n",
    "-  What are the lower and upper bounds for the expected value of the portfolio with a 95% confidence interval?\n"
   ]
  },
  {
   "cell_type": "code",
   "execution_count": 42,
   "metadata": {},
   "outputs": [
    {
     "name": "stdout",
     "output_type": "stream",
     "text": [
      "Current portfolio valuation (stocks and bonds only): $ 70178.7\n"
     ]
    }
   ],
   "source": [
    "# Print the current balance of the stock and bond portion of the members portfolio\n",
    "# YOUR CODE HERE\n",
    "print(f\"Current portfolio valuation (stocks and bonds only): $ {total_stocks_bonds}\")"
   ]
  },
  {
   "cell_type": "code",
   "execution_count": 43,
   "metadata": {},
   "outputs": [
    {
     "name": "stdout",
     "output_type": "stream",
     "text": [
      "the investment can yield between $1091.4141858670719 and $60237.51855910768\n"
     ]
    }
   ],
   "source": [
    "# Use the lower and upper `95%` confidence intervals to calculate the range of the possible outcomes for the current stock/bond portfolio\n",
    "ci_lower_thirty_cumulative_return = mc_30year_summary[8] * total_stocks_bonds\n",
    "ci_upper_thirty_cumulative_return = mc_30year_summary[9] * total_stocks_bonds\n",
    "\n",
    "# Print the result of your calculations\n",
    "print(f\"the investment can yield between ${ci_lower_thirty_cumulative_return} and ${ci_upper_thirty_cumulative_return}\")\n"
   ]
  },
  {
   "cell_type": "markdown",
   "metadata": {},
   "source": [
    "### Forecast Cumulative Returns in 10 Years\n",
    "\n",
    "The CTO of the credit union is impressed with your work on these planning tools but wonders if 30 years is a long time to wait until retirement. So, your next task is to adjust the retirement portfolio and run a new Monte Carlo simulation to find out if the changes will allow members to retire earlier.\n",
    "\n",
    "For this new Monte Carlo simulation, do the following: \n",
    "\n",
    "- Forecast the cumulative returns for 10 years from now. Because of the shortened investment horizon (30 years to 10 years), the portfolio needs to invest more heavily in the riskier asset&mdash;that is, stock&mdash;to help accumulate wealth for retirement. \n",
    "\n",
    "- Adjust the weights of the retirement portfolio so that the composition for the Monte Carlo simulation consists of 20% bonds and 80% stocks. \n",
    "\n",
    "- Run the simulation over 500 samples, and use the same data that the API call to Alpaca generated.\n",
    "\n",
    "- Based on the new Monte Carlo simulation, answer the following questions in your Jupyter notebook:\n",
    "\n",
    "    - Using the current value of only the stock and bond portion of the member's portfolio and the summary statistics that you generated from the new Monte Carlo simulation, what are the lower and upper bounds for the expected value of the portfolio (with the new weights) with a 95% confidence interval?\n",
    "\n",
    "    - Will weighting the portfolio more heavily toward stocks allow the credit union members to retire after only 10 years?\n"
   ]
  },
  {
   "cell_type": "code",
   "execution_count": 57,
   "metadata": {},
   "outputs": [],
   "source": [
    "# Configure a Monte Carlo simulation to forecast 10 years cumulative returns\n",
    "# The weights should be split 20% to AGG and 80% to SPY.\n",
    "# Run 500 samples.\n",
    "# YOUR CODE HERE\n",
    "mc_10year_simulation = MCSimulation(portfolio_data = historical_prices_df,\n",
    "    weights = [.80,.20],\n",
    "    num_simulation = 500,\n",
    "    num_trading_days = 252*10)\n",
    "# Review the simulation input data\n",
    "mc_10year_simulation.portfolio_data.dropna(inplace= True)\n"
   ]
  },
  {
   "cell_type": "code",
   "execution_count": 58,
   "metadata": {},
   "outputs": [
    {
     "name": "stdout",
     "output_type": "stream",
     "text": [
      "Running Monte Carlo simulation number 0.\n",
      "Running Monte Carlo simulation number 10.\n",
      "Running Monte Carlo simulation number 20.\n",
      "Running Monte Carlo simulation number 30.\n",
      "Running Monte Carlo simulation number 40.\n",
      "Running Monte Carlo simulation number 50.\n",
      "Running Monte Carlo simulation number 60.\n",
      "Running Monte Carlo simulation number 70.\n",
      "Running Monte Carlo simulation number 80.\n",
      "Running Monte Carlo simulation number 90.\n",
      "Running Monte Carlo simulation number 100.\n"
     ]
    },
    {
     "name": "stderr",
     "output_type": "stream",
     "text": [
      "/Users/babinshrestha/Desktop/Workspace/week 5/week 5 challange/MCForecastTools.py:117: PerformanceWarning: DataFrame is highly fragmented.  This is usually the result of calling `frame.insert` many times, which has poor performance.  Consider joining all columns at once using pd.concat(axis=1) instead.  To get a de-fragmented frame, use `newframe = frame.copy()`\n",
      "  portfolio_cumulative_returns[n] = (1 + sim_df.fillna(0)).cumprod()\n"
     ]
    },
    {
     "name": "stdout",
     "output_type": "stream",
     "text": [
      "Running Monte Carlo simulation number 110.\n",
      "Running Monte Carlo simulation number 120.\n",
      "Running Monte Carlo simulation number 130.\n",
      "Running Monte Carlo simulation number 140.\n",
      "Running Monte Carlo simulation number 150.\n",
      "Running Monte Carlo simulation number 160.\n",
      "Running Monte Carlo simulation number 170.\n",
      "Running Monte Carlo simulation number 180.\n",
      "Running Monte Carlo simulation number 190.\n",
      "Running Monte Carlo simulation number 200.\n",
      "Running Monte Carlo simulation number 210.\n",
      "Running Monte Carlo simulation number 220.\n",
      "Running Monte Carlo simulation number 230.\n",
      "Running Monte Carlo simulation number 240.\n",
      "Running Monte Carlo simulation number 250.\n",
      "Running Monte Carlo simulation number 260.\n",
      "Running Monte Carlo simulation number 270.\n",
      "Running Monte Carlo simulation number 280.\n",
      "Running Monte Carlo simulation number 290.\n",
      "Running Monte Carlo simulation number 300.\n",
      "Running Monte Carlo simulation number 310.\n",
      "Running Monte Carlo simulation number 320.\n",
      "Running Monte Carlo simulation number 330.\n",
      "Running Monte Carlo simulation number 340.\n",
      "Running Monte Carlo simulation number 350.\n",
      "Running Monte Carlo simulation number 360.\n",
      "Running Monte Carlo simulation number 370.\n",
      "Running Monte Carlo simulation number 380.\n",
      "Running Monte Carlo simulation number 390.\n",
      "Running Monte Carlo simulation number 400.\n",
      "Running Monte Carlo simulation number 410.\n",
      "Running Monte Carlo simulation number 420.\n",
      "Running Monte Carlo simulation number 430.\n",
      "Running Monte Carlo simulation number 440.\n",
      "Running Monte Carlo simulation number 450.\n",
      "Running Monte Carlo simulation number 460.\n",
      "Running Monte Carlo simulation number 470.\n",
      "Running Monte Carlo simulation number 480.\n",
      "Running Monte Carlo simulation number 490.\n"
     ]
    },
    {
     "data": {
      "text/html": [
       "<div>\n",
       "<style scoped>\n",
       "    .dataframe tbody tr th:only-of-type {\n",
       "        vertical-align: middle;\n",
       "    }\n",
       "\n",
       "    .dataframe tbody tr th {\n",
       "        vertical-align: top;\n",
       "    }\n",
       "\n",
       "    .dataframe thead th {\n",
       "        text-align: right;\n",
       "    }\n",
       "</style>\n",
       "<table border=\"1\" class=\"dataframe\">\n",
       "  <thead>\n",
       "    <tr style=\"text-align: right;\">\n",
       "      <th></th>\n",
       "      <th>0</th>\n",
       "      <th>1</th>\n",
       "      <th>2</th>\n",
       "      <th>3</th>\n",
       "      <th>4</th>\n",
       "      <th>5</th>\n",
       "      <th>6</th>\n",
       "      <th>7</th>\n",
       "      <th>8</th>\n",
       "      <th>9</th>\n",
       "      <th>...</th>\n",
       "      <th>490</th>\n",
       "      <th>491</th>\n",
       "      <th>492</th>\n",
       "      <th>493</th>\n",
       "      <th>494</th>\n",
       "      <th>495</th>\n",
       "      <th>496</th>\n",
       "      <th>497</th>\n",
       "      <th>498</th>\n",
       "      <th>499</th>\n",
       "    </tr>\n",
       "  </thead>\n",
       "  <tbody>\n",
       "    <tr>\n",
       "      <th>0</th>\n",
       "      <td>1.000000</td>\n",
       "      <td>1.000000</td>\n",
       "      <td>1.000000</td>\n",
       "      <td>1.000000</td>\n",
       "      <td>1.000000</td>\n",
       "      <td>1.000000</td>\n",
       "      <td>1.000000</td>\n",
       "      <td>1.000000</td>\n",
       "      <td>1.000000</td>\n",
       "      <td>1.000000</td>\n",
       "      <td>...</td>\n",
       "      <td>1.000000</td>\n",
       "      <td>1.000000</td>\n",
       "      <td>1.000000</td>\n",
       "      <td>1.000000</td>\n",
       "      <td>1.000000</td>\n",
       "      <td>1.000000</td>\n",
       "      <td>1.000000</td>\n",
       "      <td>1.000000</td>\n",
       "      <td>1.000000</td>\n",
       "      <td>1.000000</td>\n",
       "    </tr>\n",
       "    <tr>\n",
       "      <th>1</th>\n",
       "      <td>1.027867</td>\n",
       "      <td>1.001969</td>\n",
       "      <td>1.003458</td>\n",
       "      <td>1.006764</td>\n",
       "      <td>0.991339</td>\n",
       "      <td>1.003951</td>\n",
       "      <td>1.002528</td>\n",
       "      <td>1.009277</td>\n",
       "      <td>0.993142</td>\n",
       "      <td>0.989336</td>\n",
       "      <td>...</td>\n",
       "      <td>0.995188</td>\n",
       "      <td>1.010724</td>\n",
       "      <td>0.998289</td>\n",
       "      <td>0.982584</td>\n",
       "      <td>0.988793</td>\n",
       "      <td>1.015592</td>\n",
       "      <td>0.990618</td>\n",
       "      <td>1.008691</td>\n",
       "      <td>0.978786</td>\n",
       "      <td>1.027614</td>\n",
       "    </tr>\n",
       "    <tr>\n",
       "      <th>2</th>\n",
       "      <td>1.006562</td>\n",
       "      <td>0.986607</td>\n",
       "      <td>1.004548</td>\n",
       "      <td>0.981228</td>\n",
       "      <td>1.025246</td>\n",
       "      <td>1.017802</td>\n",
       "      <td>1.017025</td>\n",
       "      <td>1.058022</td>\n",
       "      <td>1.008615</td>\n",
       "      <td>0.992137</td>\n",
       "      <td>...</td>\n",
       "      <td>1.010542</td>\n",
       "      <td>0.998107</td>\n",
       "      <td>0.986288</td>\n",
       "      <td>0.979200</td>\n",
       "      <td>0.963511</td>\n",
       "      <td>1.023971</td>\n",
       "      <td>0.989964</td>\n",
       "      <td>1.023041</td>\n",
       "      <td>0.969236</td>\n",
       "      <td>1.019987</td>\n",
       "    </tr>\n",
       "    <tr>\n",
       "      <th>3</th>\n",
       "      <td>0.999991</td>\n",
       "      <td>0.992965</td>\n",
       "      <td>0.997036</td>\n",
       "      <td>0.981896</td>\n",
       "      <td>1.050284</td>\n",
       "      <td>1.030893</td>\n",
       "      <td>1.041176</td>\n",
       "      <td>1.059285</td>\n",
       "      <td>0.989760</td>\n",
       "      <td>1.015951</td>\n",
       "      <td>...</td>\n",
       "      <td>1.013608</td>\n",
       "      <td>1.012021</td>\n",
       "      <td>1.002733</td>\n",
       "      <td>0.972274</td>\n",
       "      <td>0.952574</td>\n",
       "      <td>1.022760</td>\n",
       "      <td>1.020368</td>\n",
       "      <td>1.019107</td>\n",
       "      <td>1.005638</td>\n",
       "      <td>1.046002</td>\n",
       "    </tr>\n",
       "    <tr>\n",
       "      <th>4</th>\n",
       "      <td>0.993129</td>\n",
       "      <td>1.004470</td>\n",
       "      <td>0.990898</td>\n",
       "      <td>0.981974</td>\n",
       "      <td>1.037777</td>\n",
       "      <td>1.043699</td>\n",
       "      <td>1.040345</td>\n",
       "      <td>1.056269</td>\n",
       "      <td>0.985681</td>\n",
       "      <td>0.987987</td>\n",
       "      <td>...</td>\n",
       "      <td>1.032595</td>\n",
       "      <td>1.002775</td>\n",
       "      <td>0.998191</td>\n",
       "      <td>0.980939</td>\n",
       "      <td>0.970384</td>\n",
       "      <td>1.017524</td>\n",
       "      <td>1.016741</td>\n",
       "      <td>1.018675</td>\n",
       "      <td>1.020107</td>\n",
       "      <td>1.033766</td>\n",
       "    </tr>\n",
       "    <tr>\n",
       "      <th>...</th>\n",
       "      <td>...</td>\n",
       "      <td>...</td>\n",
       "      <td>...</td>\n",
       "      <td>...</td>\n",
       "      <td>...</td>\n",
       "      <td>...</td>\n",
       "      <td>...</td>\n",
       "      <td>...</td>\n",
       "      <td>...</td>\n",
       "      <td>...</td>\n",
       "      <td>...</td>\n",
       "      <td>...</td>\n",
       "      <td>...</td>\n",
       "      <td>...</td>\n",
       "      <td>...</td>\n",
       "      <td>...</td>\n",
       "      <td>...</td>\n",
       "      <td>...</td>\n",
       "      <td>...</td>\n",
       "      <td>...</td>\n",
       "      <td>...</td>\n",
       "    </tr>\n",
       "    <tr>\n",
       "      <th>2516</th>\n",
       "      <td>0.163198</td>\n",
       "      <td>1.543111</td>\n",
       "      <td>0.426755</td>\n",
       "      <td>0.306120</td>\n",
       "      <td>0.184587</td>\n",
       "      <td>0.671328</td>\n",
       "      <td>0.292008</td>\n",
       "      <td>0.374102</td>\n",
       "      <td>0.505527</td>\n",
       "      <td>1.018408</td>\n",
       "      <td>...</td>\n",
       "      <td>0.189887</td>\n",
       "      <td>0.612534</td>\n",
       "      <td>0.076759</td>\n",
       "      <td>0.112529</td>\n",
       "      <td>0.458219</td>\n",
       "      <td>0.279353</td>\n",
       "      <td>0.718460</td>\n",
       "      <td>0.297347</td>\n",
       "      <td>0.197364</td>\n",
       "      <td>0.092607</td>\n",
       "    </tr>\n",
       "    <tr>\n",
       "      <th>2517</th>\n",
       "      <td>0.165874</td>\n",
       "      <td>1.567294</td>\n",
       "      <td>0.427341</td>\n",
       "      <td>0.303789</td>\n",
       "      <td>0.185759</td>\n",
       "      <td>0.659187</td>\n",
       "      <td>0.296801</td>\n",
       "      <td>0.376412</td>\n",
       "      <td>0.502086</td>\n",
       "      <td>1.007819</td>\n",
       "      <td>...</td>\n",
       "      <td>0.194648</td>\n",
       "      <td>0.619565</td>\n",
       "      <td>0.077466</td>\n",
       "      <td>0.111008</td>\n",
       "      <td>0.452673</td>\n",
       "      <td>0.280698</td>\n",
       "      <td>0.711751</td>\n",
       "      <td>0.287680</td>\n",
       "      <td>0.199138</td>\n",
       "      <td>0.092970</td>\n",
       "    </tr>\n",
       "    <tr>\n",
       "      <th>2518</th>\n",
       "      <td>0.162985</td>\n",
       "      <td>1.582712</td>\n",
       "      <td>0.433431</td>\n",
       "      <td>0.299991</td>\n",
       "      <td>0.184264</td>\n",
       "      <td>0.659927</td>\n",
       "      <td>0.293826</td>\n",
       "      <td>0.383348</td>\n",
       "      <td>0.500511</td>\n",
       "      <td>1.020708</td>\n",
       "      <td>...</td>\n",
       "      <td>0.194982</td>\n",
       "      <td>0.606277</td>\n",
       "      <td>0.078217</td>\n",
       "      <td>0.110107</td>\n",
       "      <td>0.452383</td>\n",
       "      <td>0.282449</td>\n",
       "      <td>0.721108</td>\n",
       "      <td>0.293366</td>\n",
       "      <td>0.199542</td>\n",
       "      <td>0.094006</td>\n",
       "    </tr>\n",
       "    <tr>\n",
       "      <th>2519</th>\n",
       "      <td>0.164251</td>\n",
       "      <td>1.602563</td>\n",
       "      <td>0.439927</td>\n",
       "      <td>0.301188</td>\n",
       "      <td>0.187412</td>\n",
       "      <td>0.661300</td>\n",
       "      <td>0.293706</td>\n",
       "      <td>0.388878</td>\n",
       "      <td>0.504987</td>\n",
       "      <td>1.032116</td>\n",
       "      <td>...</td>\n",
       "      <td>0.194966</td>\n",
       "      <td>0.607936</td>\n",
       "      <td>0.077592</td>\n",
       "      <td>0.114513</td>\n",
       "      <td>0.459914</td>\n",
       "      <td>0.280769</td>\n",
       "      <td>0.713335</td>\n",
       "      <td>0.296834</td>\n",
       "      <td>0.197069</td>\n",
       "      <td>0.093547</td>\n",
       "    </tr>\n",
       "    <tr>\n",
       "      <th>2520</th>\n",
       "      <td>0.161989</td>\n",
       "      <td>1.613277</td>\n",
       "      <td>0.437241</td>\n",
       "      <td>0.312574</td>\n",
       "      <td>0.186910</td>\n",
       "      <td>0.662167</td>\n",
       "      <td>0.303444</td>\n",
       "      <td>0.389163</td>\n",
       "      <td>0.500097</td>\n",
       "      <td>1.055067</td>\n",
       "      <td>...</td>\n",
       "      <td>0.192826</td>\n",
       "      <td>0.622278</td>\n",
       "      <td>0.076676</td>\n",
       "      <td>0.109192</td>\n",
       "      <td>0.451371</td>\n",
       "      <td>0.281357</td>\n",
       "      <td>0.733076</td>\n",
       "      <td>0.295515</td>\n",
       "      <td>0.193958</td>\n",
       "      <td>0.093600</td>\n",
       "    </tr>\n",
       "  </tbody>\n",
       "</table>\n",
       "<p>2521 rows × 500 columns</p>\n",
       "</div>"
      ],
      "text/plain": [
       "           0         1         2         3         4         5         6    \\\n",
       "0     1.000000  1.000000  1.000000  1.000000  1.000000  1.000000  1.000000   \n",
       "1     1.027867  1.001969  1.003458  1.006764  0.991339  1.003951  1.002528   \n",
       "2     1.006562  0.986607  1.004548  0.981228  1.025246  1.017802  1.017025   \n",
       "3     0.999991  0.992965  0.997036  0.981896  1.050284  1.030893  1.041176   \n",
       "4     0.993129  1.004470  0.990898  0.981974  1.037777  1.043699  1.040345   \n",
       "...        ...       ...       ...       ...       ...       ...       ...   \n",
       "2516  0.163198  1.543111  0.426755  0.306120  0.184587  0.671328  0.292008   \n",
       "2517  0.165874  1.567294  0.427341  0.303789  0.185759  0.659187  0.296801   \n",
       "2518  0.162985  1.582712  0.433431  0.299991  0.184264  0.659927  0.293826   \n",
       "2519  0.164251  1.602563  0.439927  0.301188  0.187412  0.661300  0.293706   \n",
       "2520  0.161989  1.613277  0.437241  0.312574  0.186910  0.662167  0.303444   \n",
       "\n",
       "           7         8         9    ...       490       491       492  \\\n",
       "0     1.000000  1.000000  1.000000  ...  1.000000  1.000000  1.000000   \n",
       "1     1.009277  0.993142  0.989336  ...  0.995188  1.010724  0.998289   \n",
       "2     1.058022  1.008615  0.992137  ...  1.010542  0.998107  0.986288   \n",
       "3     1.059285  0.989760  1.015951  ...  1.013608  1.012021  1.002733   \n",
       "4     1.056269  0.985681  0.987987  ...  1.032595  1.002775  0.998191   \n",
       "...        ...       ...       ...  ...       ...       ...       ...   \n",
       "2516  0.374102  0.505527  1.018408  ...  0.189887  0.612534  0.076759   \n",
       "2517  0.376412  0.502086  1.007819  ...  0.194648  0.619565  0.077466   \n",
       "2518  0.383348  0.500511  1.020708  ...  0.194982  0.606277  0.078217   \n",
       "2519  0.388878  0.504987  1.032116  ...  0.194966  0.607936  0.077592   \n",
       "2520  0.389163  0.500097  1.055067  ...  0.192826  0.622278  0.076676   \n",
       "\n",
       "           493       494       495       496       497       498       499  \n",
       "0     1.000000  1.000000  1.000000  1.000000  1.000000  1.000000  1.000000  \n",
       "1     0.982584  0.988793  1.015592  0.990618  1.008691  0.978786  1.027614  \n",
       "2     0.979200  0.963511  1.023971  0.989964  1.023041  0.969236  1.019987  \n",
       "3     0.972274  0.952574  1.022760  1.020368  1.019107  1.005638  1.046002  \n",
       "4     0.980939  0.970384  1.017524  1.016741  1.018675  1.020107  1.033766  \n",
       "...        ...       ...       ...       ...       ...       ...       ...  \n",
       "2516  0.112529  0.458219  0.279353  0.718460  0.297347  0.197364  0.092607  \n",
       "2517  0.111008  0.452673  0.280698  0.711751  0.287680  0.199138  0.092970  \n",
       "2518  0.110107  0.452383  0.282449  0.721108  0.293366  0.199542  0.094006  \n",
       "2519  0.114513  0.459914  0.280769  0.713335  0.296834  0.197069  0.093547  \n",
       "2520  0.109192  0.451371  0.281357  0.733076  0.295515  0.193958  0.093600  \n",
       "\n",
       "[2521 rows x 500 columns]"
      ]
     },
     "execution_count": 58,
     "metadata": {},
     "output_type": "execute_result"
    }
   ],
   "source": [
    "# Run the Monte Carlo simulation to forecast 10 years cumulative returns\n",
    "mc_10year_simulation.calc_cumulative_return()\n",
    "\n"
   ]
  },
  {
   "cell_type": "code",
   "execution_count": 61,
   "metadata": {},
   "outputs": [
    {
     "data": {
      "image/png": "[encoded data removed]",
      "text/plain": [
       "<Figure size 432x288 with 1 Axes>"
      ]
     },
     "metadata": {
      "needs_background": "light"
     },
     "output_type": "display_data"
    }
   ],
   "source": [
    "# Visualize the 10-year Monte Carlo simulation by creating an\n",
    "# overlay line plot\n",
    "mc_10year_plot = mc_10year_simulation.plot_simulation()\n",
    "mc_10year_plot.get_figure().savefig(\"mc_10year_simulation.png\", bbox_inches=\"tight\")\n",
    "\n"
   ]
  },
  {
   "cell_type": "code",
   "execution_count": 62,
   "metadata": {},
   "outputs": [
    {
     "data": {
      "image/png": "[encoded data removed]",
      "text/plain": [
       "<Figure size 432x288 with 1 Axes>"
      ]
     },
     "metadata": {
      "needs_background": "light"
     },
     "output_type": "display_data"
    }
   ],
   "source": [
    "# Visualize the probability distribution of the 10-year Monte Carlo simulation \n",
    "# by plotting a histogram\n",
    "mc_10year_hist =mc_10year_simulation.plot_distribution()\n",
    "\n",
    "mc_10year_hist.get_figure().savefig('mc_10year_dist_plot.png',bbox_inches='tight')\n",
    "\n",
    "\n"
   ]
  },
  {
   "cell_type": "code",
   "execution_count": 67,
   "metadata": {},
   "outputs": [
    {
     "data": {
      "text/plain": [
       "count           500.000000\n",
       "mean              0.405685\n",
       "std               0.344565\n",
       "min               0.042195\n",
       "25%               0.177731\n",
       "50%               0.300403\n",
       "75%               0.528880\n",
       "max               2.253926\n",
       "95% CI Lower      0.075584\n",
       "95% CI Upper      1.384675\n",
       "Name: 2520, dtype: float64"
      ]
     },
     "execution_count": 67,
     "metadata": {},
     "output_type": "execute_result"
    }
   ],
   "source": [
    "# Generate summary statistics from the 10-year Monte Carlo simulation results\n",
    "# Save the results as a variable\n",
    "# YOUR CODE HERE\n",
    "mc_10year_summary = mc_10year_simulation.summarize_cumulative_return()\n",
    "\n",
    "# Review the 10-year Monte Carlo summary statistics\n",
    "mc_10year_summary"
   ]
  },
  {
   "cell_type": "markdown",
   "metadata": {},
   "source": [
    "### Answer the following questions:"
   ]
  },
  {
   "cell_type": "markdown",
   "metadata": {},
   "source": [
    "#### Question: Using the current value of only the stock and bond portion of the member's portfolio and the summary statistics that you generated from the new Monte Carlo simulation, what are the lower and upper bounds for the expected value of the portfolio (with the new weights) with a 95% confidence interval?"
   ]
  },
  {
   "cell_type": "code",
   "execution_count": 68,
   "metadata": {},
   "outputs": [
    {
     "name": "stdout",
     "output_type": "stream",
     "text": [
      "Current portfolio valuation (stocks and bonds only): $ 70178.7\n"
     ]
    }
   ],
   "source": [
    "# Print the current balance of the stock and bond portion of the members portfolio\n",
    "\n",
    "print(f\"Current portfolio valuation (stocks and bonds only): $ {total_stocks_bonds}\")"
   ]
  },
  {
   "cell_type": "code",
   "execution_count": 69,
   "metadata": {},
   "outputs": [
    {
     "data": {
      "text/plain": [
       "28470.480687940468"
      ]
     },
     "metadata": {},
     "output_type": "display_data"
    },
    {
     "name": "stdout",
     "output_type": "stream",
     "text": [
      "the investment can yield between $5304.372803202338 and $97174.68534885376\n"
     ]
    }
   ],
   "source": [
    "# Use the lower and upper `95%` confidence intervals to calculate the range of the possible outcomes for the current stock/bond portfolio\n",
    "ci_lower_ten_cumulative_return = mc_10year_summary[8]*total_stocks_bonds\n",
    "ci_upper_ten_cumulative_return = mc_10year_summary[9]*total_stocks_bonds\n",
    "\n",
    "# Print the result of your calculations\n",
    "# YOUR CODE HERE\n",
    "display(mc_10year_summary[1]*total_stocks_bonds)\n",
    "print(f\"the investment can yield between ${ci_lower_ten_cumulative_return} and ${ci_upper_ten_cumulative_return}\")"
   ]
  },
  {
   "cell_type": "markdown",
   "metadata": {},
   "source": [
    "#### Question: Will weighting the portfolio more heavily to stocks allow the credit union members to retire after only 10 years?"
   ]
  },
  {
   "cell_type": "raw",
   "metadata": {},
   "source": [
    "**Answer** # Based on the estimations and calculations weighting heavily on stocks, our current portfolio of $70,178.7 can go down to as low as 5304.37 or high as 97174.68, as per the 10 year Montecarlo simulation. Therefore, it doesn't appear to be a sound decision as the mean value only totals 28470."
   ]
  },
  {
   "cell_type": "code",
   "execution_count": null,
   "metadata": {},
   "outputs": [],
   "source": []
  }
 ],
 "metadata": {
  "kernelspec": {
   "display_name": "Python 3 (ipykernel)",
   "language": "python",
   "name": "python3"
  },
  "language_info": {
   "codemirror_mode": {
    "name": "ipython",
    "version": 3
   },
   "file_extension": ".py",
   "mimetype": "text/x-python",
   "name": "python",
   "nbconvert_exporter": "python",
   "pygments_lexer": "ipython3",
   "version": "3.9.7"
  }
 },
 "nbformat": 4,
 "nbformat_minor": 4
}
